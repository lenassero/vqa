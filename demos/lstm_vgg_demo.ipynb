{
 "cells": [
  {
   "cell_type": "markdown",
   "metadata": {
    "toc": "true"
   },
   "source": [
    " # Table of Contents\n",
    "<div class=\"toc\" style=\"margin-top: 1em;\"><ul class=\"toc-item\" id=\"toc-level0\"><li><span><a href=\"http://localhost:8888/notebooks/Documents/git/vqa/demos/lstm_vgg_demo.ipynb#VGG16-model\" data-toc-modified-id=\"VGG16-model-1\"><span class=\"toc-item-num\">1&nbsp;&nbsp;</span>VGG16 model</a></span><ul class=\"toc-item\"><li><span><a href=\"http://localhost:8888/notebooks/Documents/git/vqa/demos/lstm_vgg_demo.ipynb#Embedding-of-COCO-images\" data-toc-modified-id=\"Embedding-of-COCO-images-1.1\"><span class=\"toc-item-num\">1.1&nbsp;&nbsp;</span>Embedding of COCO images</a></span></li></ul></li><li><span><a href=\"http://localhost:8888/notebooks/Documents/git/vqa/demos/lstm_vgg_demo.ipynb#LSTM-+-VGG\" data-toc-modified-id=\"LSTM-+-VGG-2\"><span class=\"toc-item-num\">2&nbsp;&nbsp;</span>LSTM + VGG</a></span><ul class=\"toc-item\"><li><span><a href=\"http://localhost:8888/notebooks/Documents/git/vqa/demos/lstm_vgg_demo.ipynb#Index-answers\" data-toc-modified-id=\"Index-answers-2.1\"><span class=\"toc-item-num\">2.1&nbsp;&nbsp;</span>Index answers</a></span></li><li><span><a href=\"http://localhost:8888/notebooks/Documents/git/vqa/demos/lstm_vgg_demo.ipynb#Prepare-text-data\" data-toc-modified-id=\"Prepare-text-data-2.2\"><span class=\"toc-item-num\">2.2&nbsp;&nbsp;</span>Prepare text data</a></span></li><li><span><a href=\"http://localhost:8888/notebooks/Documents/git/vqa/demos/lstm_vgg_demo.ipynb#Prepare-image-data\" data-toc-modified-id=\"Prepare-image-data-2.3\"><span class=\"toc-item-num\">2.3&nbsp;&nbsp;</span>Prepare image data</a></span></li><li><span><a href=\"http://localhost:8888/notebooks/Documents/git/vqa/demos/lstm_vgg_demo.ipynb#Sanity-check\" data-toc-modified-id=\"Sanity-check-2.4\"><span class=\"toc-item-num\">2.4&nbsp;&nbsp;</span>Sanity check</a></span></li><li><span><a href=\"http://localhost:8888/notebooks/Documents/git/vqa/demos/lstm_vgg_demo.ipynb#Model-definition\" data-toc-modified-id=\"Model-definition-2.5\"><span class=\"toc-item-num\">2.5&nbsp;&nbsp;</span>Model definition</a></span></li><li><span><a href=\"http://localhost:8888/notebooks/Documents/git/vqa/demos/lstm_vgg_demo.ipynb#Training\" data-toc-modified-id=\"Training-2.6\"><span class=\"toc-item-num\">2.6&nbsp;&nbsp;</span>Training</a></span></li></ul></li></ul></div>"
   ]
  },
  {
   "cell_type": "code",
   "execution_count": 1,
   "metadata": {
    "collapsed": true
   },
   "outputs": [],
   "source": [
    "# Add the path of the main directory\n",
    "import sys\n",
    "import os\n",
    "sys.path.append(os.path.dirname(os.getcwd()))"
   ]
  },
  {
   "cell_type": "code",
   "execution_count": 2,
   "metadata": {},
   "outputs": [
    {
     "name": "stderr",
     "output_type": "stream",
     "text": [
      "Using TensorFlow backend.\n"
     ]
    }
   ],
   "source": [
    "import matplotlib.pyplot as plt\n",
    "import numpy as np\n",
    "import random\n",
    "import keras\n",
    "\n",
    "from keras.layers import Dense, Dropout, LSTM, multiply\n",
    "from keras.layers.embeddings import Embedding\n",
    "from keras.utils import plot_model\n",
    "from keras.layers import Input\n",
    "from keras.models import Model"
   ]
  },
  {
   "cell_type": "code",
   "execution_count": 3,
   "metadata": {
    "collapsed": true
   },
   "outputs": [],
   "source": [
    "from vqa_api.PythonHelperTools.vqaTools.vqa import VQA"
   ]
  },
  {
   "cell_type": "code",
   "execution_count": 4,
   "metadata": {
    "collapsed": true
   },
   "outputs": [],
   "source": [
    "%load_ext autoreload\n",
    "\n",
    "%autoreload 2"
   ]
  },
  {
   "cell_type": "markdown",
   "metadata": {},
   "source": [
    "# VGG16 model"
   ]
  },
  {
   "cell_type": "code",
   "execution_count": 5,
   "metadata": {
    "collapsed": true
   },
   "outputs": [],
   "source": [
    "from keras.applications.vgg16 import preprocess_input\n",
    "from keras.preprocessing import image\n",
    "from tools import img_dir, img_file"
   ]
  },
  {
   "cell_type": "code",
   "execution_count": 6,
   "metadata": {
    "collapsed": true
   },
   "outputs": [],
   "source": [
    "# VGG16 model\n",
    "vgg_model = keras.applications.vgg16.VGG16(include_top=True, weights='imagenet', \n",
    "                               input_tensor=None, input_shape=None, \n",
    "                               pooling=None, classes=1000)"
   ]
  },
  {
   "cell_type": "code",
   "execution_count": 7,
   "metadata": {},
   "outputs": [
    {
     "name": "stdout",
     "output_type": "stream",
     "text": [
      "--> Layer 1 \n",
      "\n",
      "{'dtype': 'float32', 'batch_input_shape': (None, 224, 224, 3), 'name': 'input_1', 'sparse': False} \n",
      "\n",
      "--> Layer 2 \n",
      "\n",
      "{'padding': 'same', 'kernel_initializer': {'class_name': 'VarianceScaling', 'config': {'distribution': 'uniform', 'scale': 1.0, 'seed': None, 'mode': 'fan_avg'}}, 'name': 'block1_conv1', 'bias_regularizer': None, 'filters': 64, 'bias_constraint': None, 'activation': 'relu', 'trainable': True, 'data_format': 'channels_last', 'kernel_constraint': None, 'strides': (1, 1), 'dilation_rate': (1, 1), 'kernel_regularizer': None, 'bias_initializer': {'class_name': 'Zeros', 'config': {}}, 'use_bias': True, 'activity_regularizer': None, 'kernel_size': (3, 3)} \n",
      "\n",
      "--> Layer 3 \n",
      "\n",
      "{'padding': 'same', 'kernel_initializer': {'class_name': 'VarianceScaling', 'config': {'distribution': 'uniform', 'scale': 1.0, 'seed': None, 'mode': 'fan_avg'}}, 'name': 'block1_conv2', 'bias_regularizer': None, 'filters': 64, 'bias_constraint': None, 'activation': 'relu', 'trainable': True, 'data_format': 'channels_last', 'kernel_constraint': None, 'strides': (1, 1), 'dilation_rate': (1, 1), 'kernel_regularizer': None, 'bias_initializer': {'class_name': 'Zeros', 'config': {}}, 'use_bias': True, 'activity_regularizer': None, 'kernel_size': (3, 3)} \n",
      "\n",
      "--> Layer 4 \n",
      "\n",
      "{'name': 'block1_pool', 'trainable': True, 'data_format': 'channels_last', 'pool_size': (2, 2), 'padding': 'valid', 'strides': (2, 2)} \n",
      "\n",
      "--> Layer 5 \n",
      "\n",
      "{'padding': 'same', 'kernel_initializer': {'class_name': 'VarianceScaling', 'config': {'distribution': 'uniform', 'scale': 1.0, 'seed': None, 'mode': 'fan_avg'}}, 'name': 'block2_conv1', 'bias_regularizer': None, 'filters': 128, 'bias_constraint': None, 'activation': 'relu', 'trainable': True, 'data_format': 'channels_last', 'kernel_constraint': None, 'strides': (1, 1), 'dilation_rate': (1, 1), 'kernel_regularizer': None, 'bias_initializer': {'class_name': 'Zeros', 'config': {}}, 'use_bias': True, 'activity_regularizer': None, 'kernel_size': (3, 3)} \n",
      "\n",
      "--> Layer 6 \n",
      "\n",
      "{'padding': 'same', 'kernel_initializer': {'class_name': 'VarianceScaling', 'config': {'distribution': 'uniform', 'scale': 1.0, 'seed': None, 'mode': 'fan_avg'}}, 'name': 'block2_conv2', 'bias_regularizer': None, 'filters': 128, 'bias_constraint': None, 'activation': 'relu', 'trainable': True, 'data_format': 'channels_last', 'kernel_constraint': None, 'strides': (1, 1), 'dilation_rate': (1, 1), 'kernel_regularizer': None, 'bias_initializer': {'class_name': 'Zeros', 'config': {}}, 'use_bias': True, 'activity_regularizer': None, 'kernel_size': (3, 3)} \n",
      "\n",
      "--> Layer 7 \n",
      "\n",
      "{'name': 'block2_pool', 'trainable': True, 'data_format': 'channels_last', 'pool_size': (2, 2), 'padding': 'valid', 'strides': (2, 2)} \n",
      "\n",
      "--> Layer 8 \n",
      "\n",
      "{'padding': 'same', 'kernel_initializer': {'class_name': 'VarianceScaling', 'config': {'distribution': 'uniform', 'scale': 1.0, 'seed': None, 'mode': 'fan_avg'}}, 'name': 'block3_conv1', 'bias_regularizer': None, 'filters': 256, 'bias_constraint': None, 'activation': 'relu', 'trainable': True, 'data_format': 'channels_last', 'kernel_constraint': None, 'strides': (1, 1), 'dilation_rate': (1, 1), 'kernel_regularizer': None, 'bias_initializer': {'class_name': 'Zeros', 'config': {}}, 'use_bias': True, 'activity_regularizer': None, 'kernel_size': (3, 3)} \n",
      "\n",
      "--> Layer 9 \n",
      "\n",
      "{'padding': 'same', 'kernel_initializer': {'class_name': 'VarianceScaling', 'config': {'distribution': 'uniform', 'scale': 1.0, 'seed': None, 'mode': 'fan_avg'}}, 'name': 'block3_conv2', 'bias_regularizer': None, 'filters': 256, 'bias_constraint': None, 'activation': 'relu', 'trainable': True, 'data_format': 'channels_last', 'kernel_constraint': None, 'strides': (1, 1), 'dilation_rate': (1, 1), 'kernel_regularizer': None, 'bias_initializer': {'class_name': 'Zeros', 'config': {}}, 'use_bias': True, 'activity_regularizer': None, 'kernel_size': (3, 3)} \n",
      "\n",
      "--> Layer 10 \n",
      "\n",
      "{'padding': 'same', 'kernel_initializer': {'class_name': 'VarianceScaling', 'config': {'distribution': 'uniform', 'scale': 1.0, 'seed': None, 'mode': 'fan_avg'}}, 'name': 'block3_conv3', 'bias_regularizer': None, 'filters': 256, 'bias_constraint': None, 'activation': 'relu', 'trainable': True, 'data_format': 'channels_last', 'kernel_constraint': None, 'strides': (1, 1), 'dilation_rate': (1, 1), 'kernel_regularizer': None, 'bias_initializer': {'class_name': 'Zeros', 'config': {}}, 'use_bias': True, 'activity_regularizer': None, 'kernel_size': (3, 3)} \n",
      "\n",
      "--> Layer 11 \n",
      "\n",
      "{'name': 'block3_pool', 'trainable': True, 'data_format': 'channels_last', 'pool_size': (2, 2), 'padding': 'valid', 'strides': (2, 2)} \n",
      "\n",
      "--> Layer 12 \n",
      "\n",
      "{'padding': 'same', 'kernel_initializer': {'class_name': 'VarianceScaling', 'config': {'distribution': 'uniform', 'scale': 1.0, 'seed': None, 'mode': 'fan_avg'}}, 'name': 'block4_conv1', 'bias_regularizer': None, 'filters': 512, 'bias_constraint': None, 'activation': 'relu', 'trainable': True, 'data_format': 'channels_last', 'kernel_constraint': None, 'strides': (1, 1), 'dilation_rate': (1, 1), 'kernel_regularizer': None, 'bias_initializer': {'class_name': 'Zeros', 'config': {}}, 'use_bias': True, 'activity_regularizer': None, 'kernel_size': (3, 3)} \n",
      "\n",
      "--> Layer 13 \n",
      "\n",
      "{'padding': 'same', 'kernel_initializer': {'class_name': 'VarianceScaling', 'config': {'distribution': 'uniform', 'scale': 1.0, 'seed': None, 'mode': 'fan_avg'}}, 'name': 'block4_conv2', 'bias_regularizer': None, 'filters': 512, 'bias_constraint': None, 'activation': 'relu', 'trainable': True, 'data_format': 'channels_last', 'kernel_constraint': None, 'strides': (1, 1), 'dilation_rate': (1, 1), 'kernel_regularizer': None, 'bias_initializer': {'class_name': 'Zeros', 'config': {}}, 'use_bias': True, 'activity_regularizer': None, 'kernel_size': (3, 3)} \n",
      "\n",
      "--> Layer 14 \n",
      "\n",
      "{'padding': 'same', 'kernel_initializer': {'class_name': 'VarianceScaling', 'config': {'distribution': 'uniform', 'scale': 1.0, 'seed': None, 'mode': 'fan_avg'}}, 'name': 'block4_conv3', 'bias_regularizer': None, 'filters': 512, 'bias_constraint': None, 'activation': 'relu', 'trainable': True, 'data_format': 'channels_last', 'kernel_constraint': None, 'strides': (1, 1), 'dilation_rate': (1, 1), 'kernel_regularizer': None, 'bias_initializer': {'class_name': 'Zeros', 'config': {}}, 'use_bias': True, 'activity_regularizer': None, 'kernel_size': (3, 3)} \n",
      "\n",
      "--> Layer 15 \n",
      "\n",
      "{'name': 'block4_pool', 'trainable': True, 'data_format': 'channels_last', 'pool_size': (2, 2), 'padding': 'valid', 'strides': (2, 2)} \n",
      "\n",
      "--> Layer 16 \n",
      "\n",
      "{'padding': 'same', 'kernel_initializer': {'class_name': 'VarianceScaling', 'config': {'distribution': 'uniform', 'scale': 1.0, 'seed': None, 'mode': 'fan_avg'}}, 'name': 'block5_conv1', 'bias_regularizer': None, 'filters': 512, 'bias_constraint': None, 'activation': 'relu', 'trainable': True, 'data_format': 'channels_last', 'kernel_constraint': None, 'strides': (1, 1), 'dilation_rate': (1, 1), 'kernel_regularizer': None, 'bias_initializer': {'class_name': 'Zeros', 'config': {}}, 'use_bias': True, 'activity_regularizer': None, 'kernel_size': (3, 3)} \n",
      "\n",
      "--> Layer 17 \n",
      "\n",
      "{'padding': 'same', 'kernel_initializer': {'class_name': 'VarianceScaling', 'config': {'distribution': 'uniform', 'scale': 1.0, 'seed': None, 'mode': 'fan_avg'}}, 'name': 'block5_conv2', 'bias_regularizer': None, 'filters': 512, 'bias_constraint': None, 'activation': 'relu', 'trainable': True, 'data_format': 'channels_last', 'kernel_constraint': None, 'strides': (1, 1), 'dilation_rate': (1, 1), 'kernel_regularizer': None, 'bias_initializer': {'class_name': 'Zeros', 'config': {}}, 'use_bias': True, 'activity_regularizer': None, 'kernel_size': (3, 3)} \n",
      "\n",
      "--> Layer 18 \n",
      "\n",
      "{'padding': 'same', 'kernel_initializer': {'class_name': 'VarianceScaling', 'config': {'distribution': 'uniform', 'scale': 1.0, 'seed': None, 'mode': 'fan_avg'}}, 'name': 'block5_conv3', 'bias_regularizer': None, 'filters': 512, 'bias_constraint': None, 'activation': 'relu', 'trainable': True, 'data_format': 'channels_last', 'kernel_constraint': None, 'strides': (1, 1), 'dilation_rate': (1, 1), 'kernel_regularizer': None, 'bias_initializer': {'class_name': 'Zeros', 'config': {}}, 'use_bias': True, 'activity_regularizer': None, 'kernel_size': (3, 3)} \n",
      "\n",
      "--> Layer 19 \n",
      "\n",
      "{'name': 'block5_pool', 'trainable': True, 'data_format': 'channels_last', 'pool_size': (2, 2), 'padding': 'valid', 'strides': (2, 2)} \n",
      "\n",
      "--> Layer 20 \n",
      "\n",
      "{'trainable': True, 'name': 'flatten'} \n",
      "\n",
      "--> Layer 21 \n",
      "\n",
      "{'kernel_initializer': {'class_name': 'VarianceScaling', 'config': {'distribution': 'uniform', 'scale': 1.0, 'seed': None, 'mode': 'fan_avg'}}, 'name': 'fc1', 'kernel_constraint': None, 'bias_regularizer': None, 'bias_constraint': None, 'activation': 'relu', 'trainable': True, 'kernel_regularizer': None, 'bias_initializer': {'class_name': 'Zeros', 'config': {}}, 'units': 4096, 'use_bias': True, 'activity_regularizer': None} \n",
      "\n",
      "--> Layer 22 \n",
      "\n",
      "{'kernel_initializer': {'class_name': 'VarianceScaling', 'config': {'distribution': 'uniform', 'scale': 1.0, 'seed': None, 'mode': 'fan_avg'}}, 'name': 'fc2', 'kernel_constraint': None, 'bias_regularizer': None, 'bias_constraint': None, 'activation': 'relu', 'trainable': True, 'kernel_regularizer': None, 'bias_initializer': {'class_name': 'Zeros', 'config': {}}, 'units': 4096, 'use_bias': True, 'activity_regularizer': None} \n",
      "\n",
      "--> Layer 23 \n",
      "\n",
      "{'kernel_initializer': {'class_name': 'VarianceScaling', 'config': {'distribution': 'uniform', 'scale': 1.0, 'seed': None, 'mode': 'fan_avg'}}, 'name': 'predictions', 'kernel_constraint': None, 'bias_regularizer': None, 'bias_constraint': None, 'activation': 'softmax', 'trainable': True, 'kernel_regularizer': None, 'bias_initializer': {'class_name': 'Zeros', 'config': {}}, 'units': 1000, 'use_bias': True, 'activity_regularizer': None} \n",
      "\n"
     ]
    }
   ],
   "source": [
    "# Model layers \n",
    "layers = vgg_model.layers\n",
    "for i in range(len(layers)):\n",
    "    print \"--> Layer {}\".format(i+1), \"\\n\"\n",
    "    print layers[i].get_config(), \"\\n\"\n",
    "    "
   ]
  },
  {
   "cell_type": "markdown",
   "metadata": {},
   "source": [
    "The fc7 layer is the layer 22, which name is fc2. "
   ]
  },
  {
   "cell_type": "code",
   "execution_count": 8,
   "metadata": {},
   "outputs": [
    {
     "name": "stdout",
     "output_type": "stream",
     "text": [
      "{'kernel_initializer': {'class_name': 'VarianceScaling', 'config': {'distribution': 'uniform', 'scale': 1.0, 'seed': None, 'mode': 'fan_avg'}}, 'name': 'fc2', 'kernel_constraint': None, 'bias_regularizer': None, 'bias_constraint': None, 'activation': 'relu', 'trainable': True, 'kernel_regularizer': None, 'bias_initializer': {'class_name': 'Zeros', 'config': {}}, 'units': 4096, 'use_bias': True, 'activity_regularizer': None}\n",
      "fc2\n"
     ]
    }
   ],
   "source": [
    "# fc7 layer\n",
    "fc7_layer = layers[21]\n",
    "print fc7_layer.get_config()\n",
    "fc7_layer_name = fc7_layer.get_config()[\"name\"]\n",
    "print fc7_layer_name"
   ]
  },
  {
   "cell_type": "code",
   "execution_count": 9,
   "metadata": {},
   "outputs": [
    {
     "name": "stdout",
     "output_type": "stream",
     "text": [
      "Input shape: (None, 4096)\n",
      "Ouput shape: (None, 4096)\n"
     ]
    }
   ],
   "source": [
    "# Input shape and output shape of the fc7 layer\n",
    "print \"Input shape:\", fc7_layer.input_shape\n",
    "print \"Ouput shape:\", fc7_layer.output_shape"
   ]
  },
  {
   "cell_type": "code",
   "execution_count": 10,
   "metadata": {},
   "outputs": [
    {
     "name": "stdout",
     "output_type": "stream",
     "text": [
      "Weights shape: (4096, 4096)\n",
      "Bias shape: (4096,)\n"
     ]
    }
   ],
   "source": [
    "# Weights of the fc7 layer\n",
    "# Weights shape\n",
    "print \"Weights shape:\", fc7_layer.get_weights()[0].shape\n",
    "# Bias shape\n",
    "print \"Bias shape:\", fc7_layer.get_weights()[1].shape"
   ]
  },
  {
   "cell_type": "markdown",
   "metadata": {},
   "source": [
    "We can also get a Layer by its name:"
   ]
  },
  {
   "cell_type": "code",
   "execution_count": 11,
   "metadata": {},
   "outputs": [
    {
     "data": {
      "text/plain": [
       "{'activation': 'relu',\n",
       " 'activity_regularizer': None,\n",
       " 'bias_constraint': None,\n",
       " 'bias_initializer': {'class_name': 'Zeros', 'config': {}},\n",
       " 'bias_regularizer': None,\n",
       " 'kernel_constraint': None,\n",
       " 'kernel_initializer': {'class_name': 'VarianceScaling',\n",
       "  'config': {'distribution': 'uniform',\n",
       "   'mode': 'fan_avg',\n",
       "   'scale': 1.0,\n",
       "   'seed': None}},\n",
       " 'kernel_regularizer': None,\n",
       " 'name': 'fc2',\n",
       " 'trainable': True,\n",
       " 'units': 4096,\n",
       " 'use_bias': True}"
      ]
     },
     "execution_count": 11,
     "metadata": {},
     "output_type": "execute_result"
    }
   ],
   "source": [
    "# fc7 layer\n",
    "fc7_layer = vgg_model.get_layer(fc7_layer_name)\n",
    "fc7_layer.get_config()"
   ]
  },
  {
   "cell_type": "markdown",
   "metadata": {},
   "source": [
    "## Embedding of COCO images "
   ]
  },
  {
   "cell_type": "code",
   "execution_count": 13,
   "metadata": {
    "collapsed": true
   },
   "outputs": [],
   "source": [
    "# dataDir = r\"C:\\Users\\Nasser Benab\\Documents\\git\\data\\vqa\"\n",
    "# dataDir = \"/home/ubuntu/data/vqa\"\n",
    "dataDir = r\"/Users/adib/Documents/Cours/Projet/OR/VQA/vqa_dataset\"\n",
    "dataType = \"mscoco\""
   ]
  },
  {
   "cell_type": "code",
   "execution_count": 14,
   "metadata": {
    "collapsed": true
   },
   "outputs": [],
   "source": [
    "image_ids = [(9, \"train2014\"), (25, \"train2014\")]\n",
    "# List to store the arrays for images\n",
    "imgs = []\n",
    "for image_id in image_ids:\n",
    "    # Resize the images as VGG inputs\n",
    "    img = image.load_img(os.path.join(img_dir(dataDir, dataType, \n",
    "        image_id[1]), img_file(image_id[1], image_id[0])), target_size=(224, 224)) \n",
    "    img = image.img_to_array(img)\n",
    "    imgs.append(img)\n",
    "imgs = np.stack(imgs)\n",
    "# Preprocess the images corresponding to VGG\n",
    "imgs = preprocess_input(imgs)   "
   ]
  },
  {
   "cell_type": "code",
   "execution_count": 15,
   "metadata": {},
   "outputs": [
    {
     "data": {
      "text/plain": [
       "(2, 224, 224, 3)"
      ]
     },
     "execution_count": 15,
     "metadata": {},
     "output_type": "execute_result"
    }
   ],
   "source": [
    "imgs.shape"
   ]
  },
  {
   "cell_type": "code",
   "execution_count": 16,
   "metadata": {
    "collapsed": true
   },
   "outputs": [],
   "source": [
    "# \"Submodel\" of VGG until the fc7 layer\n",
    "vgg_model_fc7 = Model(inputs=vgg_model.input, outputs=vgg_model.get_layer(\"fc2\").output)"
   ]
  },
  {
   "cell_type": "code",
   "execution_count": 19,
   "metadata": {},
   "outputs": [
    {
     "data": {
      "text/plain": [
       "(2, 4096)"
      ]
     },
     "execution_count": 19,
     "metadata": {},
     "output_type": "execute_result"
    }
   ],
   "source": [
    "# Images embedding using the fc7 layer of VGG16\n",
    "vgg_model_fc7.predict(imgs).shape"
   ]
  },
  {
   "cell_type": "code",
   "execution_count": null,
   "metadata": {
    "collapsed": true
   },
   "outputs": [],
   "source": []
  },
  {
   "cell_type": "markdown",
   "metadata": {},
   "source": [
    "# LSTM + VGG"
   ]
  },
  {
   "cell_type": "code",
   "execution_count": 16,
   "metadata": {
    "collapsed": true
   },
   "outputs": [],
   "source": [
    "from lstm_vgg import LSTMVGG"
   ]
  },
  {
   "cell_type": "code",
   "execution_count": 17,
   "metadata": {
    "collapsed": true
   },
   "outputs": [],
   "source": [
    "# dataDir = r\"C:\\Users\\Nasser Benab\\Documents\\git\\data\\vqa\"\n",
    "dataDir = \"/home/ubuntu/data/vqa\""
   ]
  },
  {
   "cell_type": "code",
   "execution_count": 18,
   "metadata": {},
   "outputs": [
    {
     "name": "stdout",
     "output_type": "stream",
     "text": [
      "/home/ubuntu/data/vqa/Annotations/mscoco_train2014_annotations.json\n",
      "--> train2014\n",
      "loading VQA annotations and questions into memory...\n",
      "0:00:10.292267\n",
      "creating index...\n",
      "index created!\n",
      "loading VQA annotations and questions into memory...\n",
      "0:00:04.047210\n",
      "creating index...\n",
      "index created!\n"
     ]
    }
   ],
   "source": [
    "text_vision = LSTMVGG(dataDir)"
   ]
  },
  {
   "cell_type": "markdown",
   "metadata": {},
   "source": [
    "## Index answers"
   ]
  },
  {
   "cell_type": "code",
   "execution_count": 22,
   "metadata": {
    "collapsed": true
   },
   "outputs": [],
   "source": [
    "text_vision.get_most_common_answer()"
   ]
  },
  {
   "cell_type": "code",
   "execution_count": 23,
   "metadata": {
    "collapsed": true
   },
   "outputs": [],
   "source": [
    "text_vision.get_top_answers()"
   ]
  },
  {
   "cell_type": "code",
   "execution_count": 24,
   "metadata": {
    "collapsed": true
   },
   "outputs": [],
   "source": [
    "text_vision.encode_answers()"
   ]
  },
  {
   "cell_type": "code",
   "execution_count": 25,
   "metadata": {},
   "outputs": [
    {
     "data": {
      "text/plain": [
       "(248349, 1000)"
      ]
     },
     "execution_count": 25,
     "metadata": {},
     "output_type": "execute_result"
    }
   ],
   "source": [
    "text_vision.train_answers_categorical.shape"
   ]
  },
  {
   "cell_type": "code",
   "execution_count": 26,
   "metadata": {},
   "outputs": [
    {
     "data": {
      "text/plain": [
       "(121512, 1000)"
      ]
     },
     "execution_count": 26,
     "metadata": {},
     "output_type": "execute_result"
    }
   ],
   "source": [
    "text_vision.test_answers_categorical.shape"
   ]
  },
  {
   "cell_type": "markdown",
   "metadata": {},
   "source": [
    "## Prepare text data "
   ]
  },
  {
   "cell_type": "code",
   "execution_count": 27,
   "metadata": {
    "collapsed": true
   },
   "outputs": [],
   "source": [
    "# Tokenize questions using the vocabulary of the training questions\n",
    "text_vision.tokenize_questions()"
   ]
  },
  {
   "cell_type": "code",
   "execution_count": 28,
   "metadata": {},
   "outputs": [
    {
     "data": {
      "text/plain": [
       "(248349, 121512)"
      ]
     },
     "execution_count": 28,
     "metadata": {},
     "output_type": "execute_result"
    }
   ],
   "source": [
    "# Number of questions in the train and test set\n",
    "len(text_vision.train_sequences), len(text_vision.test_sequences)"
   ]
  },
  {
   "cell_type": "markdown",
   "metadata": {},
   "source": [
    "## Prepare image data"
   ]
  },
  {
   "cell_type": "code",
   "execution_count": 19,
   "metadata": {},
   "outputs": [
    {
     "name": "stderr",
     "output_type": "stream",
     "text": [
      "100%|██████████| 10000/10000 [01:16<00:00, 130.29it/s]\n",
      "100%|██████████| 10000/10000 [01:16<00:00, 130.20it/s]\n"
     ]
    }
   ],
   "source": [
    "text_vision.process_images(n=10000)"
   ]
  },
  {
   "cell_type": "code",
   "execution_count": 20,
   "metadata": {},
   "outputs": [
    {
     "data": {
      "text/plain": [
       "(30000, 224, 224, 3)"
      ]
     },
     "execution_count": 20,
     "metadata": {},
     "output_type": "execute_result"
    }
   ],
   "source": [
    "text_vision.train_images.shape"
   ]
  },
  {
   "cell_type": "code",
   "execution_count": 21,
   "metadata": {},
   "outputs": [
    {
     "data": {
      "text/plain": [
       "(30000, 224, 224, 3)"
      ]
     },
     "execution_count": 21,
     "metadata": {},
     "output_type": "execute_result"
    }
   ],
   "source": [
    "text_vision.test_images.shape"
   ]
  },
  {
   "cell_type": "markdown",
   "metadata": {},
   "source": [
    "## Clear unuseful variables"
   ]
  },
  {
   "cell_type": "markdown",
   "metadata": {},
   "source": [
    "After creating the training and validation data, we are going to discard the \"raw\" variables."
   ]
  },
  {
   "cell_type": "code",
   "execution_count": 29,
   "metadata": {
    "collapsed": true
   },
   "outputs": [],
   "source": [
    "del text_vision.questions_train"
   ]
  },
  {
   "cell_type": "code",
   "execution_count": 30,
   "metadata": {
    "collapsed": true
   },
   "outputs": [],
   "source": [
    "del text_vision.questions_test"
   ]
  },
  {
   "cell_type": "code",
   "execution_count": 31,
   "metadata": {
    "collapsed": true
   },
   "outputs": [],
   "source": [
    "del text_vision.annotations_train"
   ]
  },
  {
   "cell_type": "code",
   "execution_count": 32,
   "metadata": {
    "collapsed": true
   },
   "outputs": [],
   "source": [
    "del text_vision.annotations_test"
   ]
  },
  {
   "cell_type": "code",
   "execution_count": 33,
   "metadata": {
    "collapsed": true
   },
   "outputs": [],
   "source": [
    "del text_vision.vqa_test"
   ]
  },
  {
   "cell_type": "code",
   "execution_count": 34,
   "metadata": {
    "collapsed": true
   },
   "outputs": [],
   "source": [
    "del text_vision.vqa_train2014"
   ]
  },
  {
   "cell_type": "markdown",
   "metadata": {},
   "source": [
    "## Sanity check  "
   ]
  },
  {
   "cell_type": "markdown",
   "metadata": {},
   "source": [
    "Let's check that the different data correspond (question, answer and image):"
   ]
  },
  {
   "cell_type": "code",
   "execution_count": 35,
   "metadata": {
    "collapsed": true
   },
   "outputs": [],
   "source": [
    "import random"
   ]
  },
  {
   "cell_type": "code",
   "execution_count": 36,
   "metadata": {},
   "outputs": [
    {
     "data": {
      "text/plain": [
       "77"
      ]
     },
     "execution_count": 36,
     "metadata": {},
     "output_type": "execute_result"
    }
   ],
   "source": [
    "i = random.choice(range(300))\n",
    "i"
   ]
  },
  {
   "cell_type": "code",
   "execution_count": 37,
   "metadata": {},
   "outputs": [
    {
     "data": {
      "text/plain": [
       "u'Does the man have company?'"
      ]
     },
     "execution_count": 37,
     "metadata": {},
     "output_type": "execute_result"
    }
   ],
   "source": [
    "text_vision.train_questions[i]"
   ]
  },
  {
   "cell_type": "code",
   "execution_count": 38,
   "metadata": {},
   "outputs": [
    {
     "data": {
      "text/plain": [
       "u'no'"
      ]
     },
     "execution_count": 38,
     "metadata": {},
     "output_type": "execute_result"
    }
   ],
   "source": [
    "text_vision.train_answers[i]"
   ]
  },
  {
   "cell_type": "code",
   "execution_count": 39,
   "metadata": {
    "collapsed": true
   },
   "outputs": [],
   "source": [
    "# plt.imshow(text_vision.train_images[i])\n",
    "# plt.show()"
   ]
  },
  {
   "cell_type": "markdown",
   "metadata": {},
   "source": [
    "## Model definition"
   ]
  },
  {
   "cell_type": "code",
   "execution_count": 40,
   "metadata": {
    "collapsed": true
   },
   "outputs": [],
   "source": [
    "# Maximum length for the input questions\n",
    "input_length = 22\n",
    "\n",
    "# Vocabulary size from the training set\n",
    "V = text_vision.vocabulary_size_train\n",
    "input_dim = V + 1\n",
    "\n",
    "# Dimension of the vectors (from the paper)\n",
    "embedding_dim = 300\n",
    "\n",
    "# The output from the embedding layer is equal to input_length x embedding_dim"
   ]
  },
  {
   "cell_type": "code",
   "execution_count": 41,
   "metadata": {
    "collapsed": true
   },
   "outputs": [],
   "source": [
    "# VGG16 model\n",
    "vgg_model = keras.applications.vgg16.VGG16(include_top=True, weights='imagenet', \n",
    "                               input_tensor=None, input_shape=None, \n",
    "                               pooling=None, classes=1000)"
   ]
  },
  {
   "cell_type": "code",
   "execution_count": 42,
   "metadata": {
    "collapsed": true
   },
   "outputs": [],
   "source": [
    "# \"Submodel\" of VGG until the fc7 layer\n",
    "vgg_model_fc7 = Model(inputs=vgg_model.input, outputs=vgg_model.get_layer(\"fc2\").output)"
   ]
  },
  {
   "cell_type": "code",
   "execution_count": 43,
   "metadata": {},
   "outputs": [
    {
     "name": "stdout",
     "output_type": "stream",
     "text": [
      "__________________________________________________________________________________________________\n",
      "Layer (type)                    Output Shape         Param #     Connected to                     \n",
      "==================================================================================================\n",
      "input_3 (InputLayer)            (None, 22)           0                                            \n",
      "__________________________________________________________________________________________________\n",
      "input_2 (InputLayer)            (None, 224, 224, 3)  0                                            \n",
      "__________________________________________________________________________________________________\n",
      "embedding_1 (Embedding)         (None, 22, 300)      4099800     input_3[0][0]                    \n",
      "__________________________________________________________________________________________________\n",
      "model_1 (Model)                 (None, 4096)         134260544   input_2[0][0]                    \n",
      "__________________________________________________________________________________________________\n",
      "lstm_1 (LSTM)                   (None, 1024)         5427200     embedding_1[0][0]                \n",
      "__________________________________________________________________________________________________\n",
      "dense_1 (Dense)                 (None, 1024)         4195328     model_1[1][0]                    \n",
      "__________________________________________________________________________________________________\n",
      "multiply_1 (Multiply)           (None, 1024)         0           lstm_1[0][0]                     \n",
      "                                                                 dense_1[0][0]                    \n",
      "__________________________________________________________________________________________________\n",
      "dropout_1 (Dropout)             (None, 1024)         0           multiply_1[0][0]                 \n",
      "__________________________________________________________________________________________________\n",
      "dense_2 (Dense)                 (None, 1000)         1025000     dropout_1[0][0]                  \n",
      "__________________________________________________________________________________________________\n",
      "dropout_2 (Dropout)             (None, 1000)         0           dense_2[0][0]                    \n",
      "__________________________________________________________________________________________________\n",
      "dense_3 (Dense)                 (None, 1000)         1001000     dropout_2[0][0]                  \n",
      "__________________________________________________________________________________________________\n",
      "dense_4 (Dense)                 (None, 1000)         1001000     dense_3[0][0]                    \n",
      "==================================================================================================\n",
      "Total params: 151,009,872\n",
      "Trainable params: 16,749,328\n",
      "Non-trainable params: 134,260,544\n",
      "__________________________________________________________________________________________________\n",
      "None\n"
     ]
    }
   ],
   "source": [
    "# Let's get a tensor with the output of our vision model\n",
    "image_input = Input(shape=(224, 224, 3))\n",
    "# Freeze the vision model weights\n",
    "vgg_model_fc7.trainable = False\n",
    "fc7 = vgg_model_fc7(image_input)\n",
    "\n",
    "# Turn the 4096 embedding from the fc7 layer to a 1024 embedding in order to \n",
    "# match the questions embedding\n",
    "encoded_image = Dense(1024, activation=\"tanh\")(fc7)\n",
    "\n",
    "# Langage model\n",
    "question_input = Input(shape=(22,), dtype=\"int32\")\n",
    "embedded_question = Embedding(input_dim=input_dim, output_dim=embedding_dim, \n",
    "                              input_length=input_length)(question_input)\n",
    "encoded_question = LSTM(1024)(embedded_question)\n",
    "\n",
    "# Point-wise multiplication of the outputs from the vision model and the \n",
    "# langage model\n",
    "merge = multiply([encoded_question, encoded_image])\n",
    "\n",
    "# Hidden layers with 0.5 dropouts\n",
    "merge = Dropout(0.5)(merge)\n",
    "hidden1 = Dense(1000, activation=\"tanh\")(merge)\n",
    "hidden1 = Dropout(0.5)(hidden1)\n",
    "hidden2 = Dense(1000, activation=\"tanh\")(hidden1)\n",
    "\n",
    "# Final softmax layer\n",
    "output = Dense(1000, activation=\"softmax\")(hidden2)\n",
    "\n",
    "# This is our final model:\n",
    "vqa_model = Model(inputs=[image_input, question_input], outputs=output)\n",
    "\n",
    "# Summarize layers\n",
    "print(vqa_model.summary())\n",
    "# Plot graph\n",
    "# plot_model(vqa_model, to_file=\"vqa_model.png\")"
   ]
  },
  {
   "cell_type": "markdown",
   "metadata": {},
   "source": [
    "## Training "
   ]
  },
  {
   "cell_type": "code",
   "execution_count": 44,
   "metadata": {
    "collapsed": true
   },
   "outputs": [],
   "source": [
    "vqa_model.compile(optimizer=\"rmsprop\", loss=\"categorical_crossentropy\",\n",
    "              metrics=[\"accuracy\"])"
   ]
  },
  {
   "cell_type": "code",
   "execution_count": 45,
   "metadata": {
    "collapsed": true
   },
   "outputs": [],
   "source": [
    "# Number of train and test observations\n",
    "n_train = 16000\n",
    "n_test = 4000"
   ]
  },
  {
   "cell_type": "code",
   "execution_count": 46,
   "metadata": {
    "collapsed": true
   },
   "outputs": [],
   "source": [
    "x_train = [text_vision.train_images[:n_train], text_vision.train_sequences[:n_train]]\n",
    "x_val = [text_vision.test_images[:n_test], text_vision.test_sequences[:n_test]]\n",
    "y_train = text_vision.train_answers_categorical[:n_train]\n",
    "y_val = text_vision.test_answers_categorical[:n_test]"
   ]
  },
  {
   "cell_type": "code",
   "execution_count": 47,
   "metadata": {},
   "outputs": [
    {
     "name": "stdout",
     "output_type": "stream",
     "text": [
      "Train on 16000 samples, validate on 4000 samples\n",
      "Epoch 1/1\n",
      "16000/16000 [==============================] - 265s 17ms/step - loss: 4.8405 - acc: 0.1912 - val_loss: 4.3336 - val_acc: 0.1230\n",
      "CPU times: user 3min 53s, sys: 8.94 s, total: 4min 2s\n",
      "Wall time: 4min 25s\n"
     ]
    }
   ],
   "source": [
    "%time history = vqa_model.fit(x_train, y_train, validation_data=(x_val, y_val), epochs=1, batch_size=128)"
   ]
  },
  {
   "cell_type": "code",
   "execution_count": 48,
   "metadata": {},
   "outputs": [
    {
     "name": "stdout",
     "output_type": "stream",
     "text": [
      "['acc', 'loss', 'val_acc', 'val_loss']\n"
     ]
    }
   ],
   "source": [
    "# List all data in history\n",
    "print(history.history.keys())"
   ]
  },
  {
   "cell_type": "code",
   "execution_count": 49,
   "metadata": {},
   "outputs": [
    {
     "data": {
      "image/png": "[encoded data removed]",
      "text/plain": [
       "<matplotlib.figure.Figure at 0x7fcae9354c50>"
      ]
     },
     "metadata": {},
     "output_type": "display_data"
    },
    {
     "data": {
      "image/png": "[encoded data removed]",
      "text/plain": [
       "<matplotlib.figure.Figure at 0x7fcae8971d50>"
      ]
     },
     "metadata": {},
     "output_type": "display_data"
    }
   ],
   "source": [
    "# Summarize history for accuracy\n",
    "plt.plot(history.history[\"acc\"])\n",
    "plt.plot(history.history[\"val_acc\"])\n",
    "plt.title(\"model accuracy\")\n",
    "plt.ylabel(\"accuracy\")\n",
    "plt.xlabel(\"epoch\")\n",
    "plt.legend([\"train\", \"test\"], loc=\"upper left\")\n",
    "plt.show()\n",
    "\n",
    "# Summarize history for loss\n",
    "plt.plot(history.history[\"loss\"])\n",
    "plt.plot(history.history[\"val_loss\"])\n",
    "plt.title(\"model loss\")\n",
    "plt.ylabel(\"loss\")\n",
    "plt.xlabel(\"epoch\")\n",
    "plt.legend([\"train\", \"test\"], loc=\"upper left\")\n",
    "plt.show()"
   ]
  },
  {
   "cell_type": "code",
   "execution_count": 50,
   "metadata": {
    "collapsed": true
   },
   "outputs": [],
   "source": [
    "predictions = vqa_model.predict(x_val)"
   ]
  },
  {
   "cell_type": "code",
   "execution_count": 51,
   "metadata": {},
   "outputs": [
    {
     "data": {
      "text/plain": [
       "[{'answer': u'yes', 'question_id': 3506232},\n",
       " {'answer': u'yes', 'question_id': 3506230},\n",
       " {'answer': u'yes', 'question_id': 3506231},\n",
       " {'answer': u'10', 'question_id': 86472},\n",
       " {'answer': u'yes', 'question_id': 86470},\n",
       " {'answer': u'yes', 'question_id': 86471},\n",
       " {'answer': u'yes', 'question_id': 4344100},\n",
       " {'answer': u'yes', 'question_id': 4344101},\n",
       " {'answer': u'10', 'question_id': 4344102},\n",
       " {'answer': u'10', 'question_id': 562050},\n",
       " {'answer': u'10', 'question_id': 562051},\n",
       " {'answer': u'yes', 'question_id': 562052},\n",
       " {'answer': u'10', 'question_id': 652272},\n",
       " {'answer': u'yes', 'question_id': 652270},\n",
       " {'answer': u'yes', 'question_id': 652271},\n",
       " {'answer': u'yes', 'question_id': 1034880},\n",
       " {'answer': u'yes', 'question_id': 1034881},\n",
       " {'answer': u'10', 'question_id': 1034882},\n",
       " {'answer': u'yes', 'question_id': 1240392},\n",
       " {'answer': u'10', 'question_id': 1240390},\n",
       " {'answer': u'yes', 'question_id': 1240391},\n",
       " {'answer': u'yes', 'question_id': 2002960},\n",
       " {'answer': u'10', 'question_id': 2002961},\n",
       " {'answer': u'yes', 'question_id': 2002962},\n",
       " {'answer': u'10', 'question_id': 360120},\n",
       " {'answer': u'yes', 'question_id': 360121},\n",
       " {'answer': u'10', 'question_id': 360122},\n",
       " {'answer': u'yes', 'question_id': 3035660},\n",
       " {'answer': u'10', 'question_id': 3035661},\n",
       " {'answer': u'10', 'question_id': 3035662},\n",
       " {'answer': u'yes', 'question_id': 840180},\n",
       " {'answer': u'yes', 'question_id': 840181},\n",
       " {'answer': u'yes', 'question_id': 840182},\n",
       " {'answer': u'10', 'question_id': 3543330},\n",
       " {'answer': u'10', 'question_id': 3543331},\n",
       " {'answer': u'yes', 'question_id': 3543332},\n",
       " {'answer': u'yes', 'question_id': 264480},\n",
       " {'answer': u'yes', 'question_id': 264481},\n",
       " {'answer': u'yes', 'question_id': 264482},\n",
       " {'answer': u'10', 'question_id': 4437970},\n",
       " {'answer': u'10', 'question_id': 4437971},\n",
       " {'answer': u'yes', 'question_id': 4437972},\n",
       " {'answer': u'yes', 'question_id': 5301620},\n",
       " {'answer': u'yes', 'question_id': 5301621},\n",
       " {'answer': u'yes', 'question_id': 5301622},\n",
       " {'answer': u'yes', 'question_id': 5334520},\n",
       " {'answer': u'yes', 'question_id': 5334521},\n",
       " {'answer': u'yes', 'question_id': 5334522},\n",
       " {'answer': u'yes', 'question_id': 3494832},\n",
       " {'answer': u'yes', 'question_id': 3494830},\n",
       " {'answer': u'yes', 'question_id': 3494831},\n",
       " {'answer': u'10', 'question_id': 3751432},\n",
       " {'answer': u'10', 'question_id': 3751430},\n",
       " {'answer': u'10', 'question_id': 3751431},\n",
       " {'answer': u'yes', 'question_id': 1520192},\n",
       " {'answer': u'10', 'question_id': 1520190},\n",
       " {'answer': u'yes', 'question_id': 1520191},\n",
       " {'answer': u'yes', 'question_id': 1814660},\n",
       " {'answer': u'yes', 'question_id': 1814661},\n",
       " {'answer': u'yes', 'question_id': 1814662},\n",
       " {'answer': u'10', 'question_id': 4606820},\n",
       " {'answer': u'yes', 'question_id': 4606821},\n",
       " {'answer': u'yes', 'question_id': 4606822},\n",
       " {'answer': u'yes', 'question_id': 3749872},\n",
       " {'answer': u'yes', 'question_id': 3749870},\n",
       " {'answer': u'10', 'question_id': 3749871},\n",
       " {'answer': u'yes', 'question_id': 3870792},\n",
       " {'answer': u'yes', 'question_id': 3870790},\n",
       " {'answer': u'yes', 'question_id': 3870791},\n",
       " {'answer': u'yes', 'question_id': 4603120},\n",
       " {'answer': u'10', 'question_id': 4603121},\n",
       " {'answer': u'yes', 'question_id': 4603122},\n",
       " {'answer': u'yes', 'question_id': 3470872},\n",
       " {'answer': u'10', 'question_id': 3470870},\n",
       " {'answer': u'yes', 'question_id': 3470871},\n",
       " {'answer': u'yes', 'question_id': 35010},\n",
       " {'answer': u'yes', 'question_id': 35011},\n",
       " {'answer': u'10', 'question_id': 35012},\n",
       " {'answer': u'10', 'question_id': 2459152},\n",
       " {'answer': u'yes', 'question_id': 2459150},\n",
       " {'answer': u'yes', 'question_id': 2459151},\n",
       " {'answer': u'10', 'question_id': 96992},\n",
       " {'answer': u'10', 'question_id': 96990},\n",
       " {'answer': u'yes', 'question_id': 96991},\n",
       " {'answer': u'10', 'question_id': 1167860},\n",
       " {'answer': u'10', 'question_id': 1167861},\n",
       " {'answer': u'yes', 'question_id': 1167862},\n",
       " {'answer': u'yes', 'question_id': 2630140},\n",
       " {'answer': u'yes', 'question_id': 2630141},\n",
       " {'answer': u'yes', 'question_id': 2630142},\n",
       " {'answer': u'yes', 'question_id': 4729300},\n",
       " {'answer': u'yes', 'question_id': 4729301},\n",
       " {'answer': u'yes', 'question_id': 4729302},\n",
       " {'answer': u'10', 'question_id': 1889580},\n",
       " {'answer': u'yes', 'question_id': 1889581},\n",
       " {'answer': u'yes', 'question_id': 1889582},\n",
       " {'answer': u'yes', 'question_id': 1766970},\n",
       " {'answer': u'yes', 'question_id': 1766971},\n",
       " {'answer': u'yes', 'question_id': 1766972},\n",
       " {'answer': u'yes', 'question_id': 5542660},\n",
       " {'answer': u'yes', 'question_id': 5542661},\n",
       " {'answer': u'10', 'question_id': 5542662},\n",
       " {'answer': u'yes', 'question_id': 5053712},\n",
       " {'answer': u'yes', 'question_id': 5053710},\n",
       " {'answer': u'10', 'question_id': 5053711},\n",
       " {'answer': u'yes', 'question_id': 586552},\n",
       " {'answer': u'10', 'question_id': 586550},\n",
       " {'answer': u'yes', 'question_id': 586551},\n",
       " {'answer': u'yes', 'question_id': 763840},\n",
       " {'answer': u'yes', 'question_id': 763841},\n",
       " {'answer': u'yes', 'question_id': 763842},\n",
       " {'answer': u'yes', 'question_id': 1905952},\n",
       " {'answer': u'yes', 'question_id': 1905950},\n",
       " {'answer': u'yes', 'question_id': 1905951},\n",
       " {'answer': u'yes', 'question_id': 650080},\n",
       " {'answer': u'yes', 'question_id': 650081},\n",
       " {'answer': u'yes', 'question_id': 650082},\n",
       " {'answer': u'yes', 'question_id': 5205032},\n",
       " {'answer': u'yes', 'question_id': 5205030},\n",
       " {'answer': u'yes', 'question_id': 5205031},\n",
       " {'answer': u'yes', 'question_id': 3521272},\n",
       " {'answer': u'yes', 'question_id': 3521270},\n",
       " {'answer': u'yes', 'question_id': 3521271},\n",
       " {'answer': u'yes', 'question_id': 1965740},\n",
       " {'answer': u'10', 'question_id': 1965741},\n",
       " {'answer': u'yes', 'question_id': 1965742},\n",
       " {'answer': u'yes', 'question_id': 4728640},\n",
       " {'answer': u'10', 'question_id': 4728641},\n",
       " {'answer': u'yes', 'question_id': 4728642},\n",
       " {'answer': u'10', 'question_id': 592952},\n",
       " {'answer': u'10', 'question_id': 592950},\n",
       " {'answer': u'10', 'question_id': 592951},\n",
       " {'answer': u'yes', 'question_id': 3930560},\n",
       " {'answer': u'yes', 'question_id': 3930561},\n",
       " {'answer': u'yes', 'question_id': 3930562},\n",
       " {'answer': u'yes', 'question_id': 1164130},\n",
       " {'answer': u'yes', 'question_id': 1164131},\n",
       " {'answer': u'yes', 'question_id': 1164132},\n",
       " {'answer': u'10', 'question_id': 3779840},\n",
       " {'answer': u'yes', 'question_id': 3779841},\n",
       " {'answer': u'yes', 'question_id': 3779842},\n",
       " {'answer': u'yes', 'question_id': 797210},\n",
       " {'answer': u'yes', 'question_id': 797211},\n",
       " {'answer': u'yes', 'question_id': 797212},\n",
       " {'answer': u'10', 'question_id': 1483192},\n",
       " {'answer': u'10', 'question_id': 1483190},\n",
       " {'answer': u'10', 'question_id': 1483191},\n",
       " {'answer': u'yes', 'question_id': 4691580},\n",
       " {'answer': u'10', 'question_id': 4691581},\n",
       " {'answer': u'yes', 'question_id': 4691582},\n",
       " {'answer': u'10', 'question_id': 3026032},\n",
       " {'answer': u'yes', 'question_id': 3026030},\n",
       " {'answer': u'yes', 'question_id': 3026031},\n",
       " {'answer': u'yes', 'question_id': 4443900},\n",
       " {'answer': u'yes', 'question_id': 4443901},\n",
       " {'answer': u'yes', 'question_id': 4443902},\n",
       " {'answer': u'yes', 'question_id': 3347820},\n",
       " {'answer': u'yes', 'question_id': 3347821},\n",
       " {'answer': u'10', 'question_id': 3347822},\n",
       " {'answer': u'yes', 'question_id': 1256730},\n",
       " {'answer': u'10', 'question_id': 1256731},\n",
       " {'answer': u'yes', 'question_id': 1256732},\n",
       " {'answer': u'yes', 'question_id': 1543240},\n",
       " {'answer': u'yes', 'question_id': 1543241},\n",
       " {'answer': u'yes', 'question_id': 1543242},\n",
       " {'answer': u'yes', 'question_id': 5410250},\n",
       " {'answer': u'yes', 'question_id': 5410251},\n",
       " {'answer': u'yes', 'question_id': 5410252},\n",
       " {'answer': u'yes', 'question_id': 3790860},\n",
       " {'answer': u'yes', 'question_id': 3790861},\n",
       " {'answer': u'yes', 'question_id': 3790862},\n",
       " {'answer': u'yes', 'question_id': 2642010},\n",
       " {'answer': u'yes', 'question_id': 2642011},\n",
       " {'answer': u'yes', 'question_id': 2642012},\n",
       " {'answer': u'10', 'question_id': 649740},\n",
       " {'answer': u'10', 'question_id': 649741},\n",
       " {'answer': u'10', 'question_id': 649742},\n",
       " {'answer': u'yes', 'question_id': 2240530},\n",
       " {'answer': u'yes', 'question_id': 2240531},\n",
       " {'answer': u'yes', 'question_id': 2240532},\n",
       " {'answer': u'10', 'question_id': 3627780},\n",
       " {'answer': u'10', 'question_id': 3627781},\n",
       " {'answer': u'yes', 'question_id': 3627782},\n",
       " {'answer': u'yes', 'question_id': 2413960},\n",
       " {'answer': u'yes', 'question_id': 2413961},\n",
       " {'answer': u'10', 'question_id': 2413962},\n",
       " {'answer': u'yes', 'question_id': 2736420},\n",
       " {'answer': u'yes', 'question_id': 2736421},\n",
       " {'answer': u'yes', 'question_id': 2736422},\n",
       " {'answer': u'yes', 'question_id': 4773050},\n",
       " {'answer': u'yes', 'question_id': 4773051},\n",
       " {'answer': u'10', 'question_id': 4773052},\n",
       " {'answer': u'10', 'question_id': 21420},\n",
       " {'answer': u'10', 'question_id': 21421},\n",
       " {'answer': u'yes', 'question_id': 21422},\n",
       " {'answer': u'10', 'question_id': 1448740},\n",
       " {'answer': u'yes', 'question_id': 1448741},\n",
       " {'answer': u'10', 'question_id': 1448742},\n",
       " {'answer': u'10', 'question_id': 3664060},\n",
       " {'answer': u'10', 'question_id': 3664061},\n",
       " {'answer': u'yes', 'question_id': 3664062},\n",
       " {'answer': u'yes', 'question_id': 3595690},\n",
       " {'answer': u'yes', 'question_id': 3595691},\n",
       " {'answer': u'yes', 'question_id': 3595692},\n",
       " {'answer': u'yes', 'question_id': 425340},\n",
       " {'answer': u'10', 'question_id': 425341},\n",
       " {'answer': u'yes', 'question_id': 425342},\n",
       " {'answer': u'yes', 'question_id': 1585880},\n",
       " {'answer': u'yes', 'question_id': 1585881},\n",
       " {'answer': u'yes', 'question_id': 1585882},\n",
       " {'answer': u'10', 'question_id': 3076140},\n",
       " {'answer': u'yes', 'question_id': 3076141},\n",
       " {'answer': u'yes', 'question_id': 3076142},\n",
       " {'answer': u'yes', 'question_id': 851440},\n",
       " {'answer': u'yes', 'question_id': 851441},\n",
       " {'answer': u'yes', 'question_id': 851442},\n",
       " {'answer': u'10', 'question_id': 1760820},\n",
       " {'answer': u'yes', 'question_id': 1760821},\n",
       " {'answer': u'yes', 'question_id': 1760822},\n",
       " {'answer': u'yes', 'question_id': 1955672},\n",
       " {'answer': u'yes', 'question_id': 1955670},\n",
       " {'answer': u'yes', 'question_id': 1955671},\n",
       " {'answer': u'yes', 'question_id': 4034810},\n",
       " {'answer': u'10', 'question_id': 4034811},\n",
       " {'answer': u'yes', 'question_id': 4034812},\n",
       " {'answer': u'yes', 'question_id': 4339840},\n",
       " {'answer': u'yes', 'question_id': 4339841},\n",
       " {'answer': u'yes', 'question_id': 4339842},\n",
       " {'answer': u'yes', 'question_id': 2863130},\n",
       " {'answer': u'yes', 'question_id': 2863131},\n",
       " {'answer': u'yes', 'question_id': 2863132},\n",
       " {'answer': u'yes', 'question_id': 4473420},\n",
       " {'answer': u'yes', 'question_id': 4473421},\n",
       " {'answer': u'yes', 'question_id': 4473422},\n",
       " {'answer': u'yes', 'question_id': 664912},\n",
       " {'answer': u'10', 'question_id': 664910},\n",
       " {'answer': u'10', 'question_id': 664911},\n",
       " {'answer': u'10', 'question_id': 2040672},\n",
       " {'answer': u'10', 'question_id': 2040670},\n",
       " {'answer': u'yes', 'question_id': 2040671},\n",
       " {'answer': u'10', 'question_id': 4293860},\n",
       " {'answer': u'yes', 'question_id': 4293861},\n",
       " {'answer': u'yes', 'question_id': 4293862},\n",
       " {'answer': u'yes', 'question_id': 5610420},\n",
       " {'answer': u'yes', 'question_id': 5610421},\n",
       " {'answer': u'yes', 'question_id': 5610422},\n",
       " {'answer': u'yes', 'question_id': 2281440},\n",
       " {'answer': u'10', 'question_id': 2281441},\n",
       " {'answer': u'10', 'question_id': 2281442},\n",
       " {'answer': u'yes', 'question_id': 5760700},\n",
       " {'answer': u'yes', 'question_id': 5760701},\n",
       " {'answer': u'yes', 'question_id': 5760702},\n",
       " {'answer': u'10', 'question_id': 3970450},\n",
       " {'answer': u'yes', 'question_id': 3970451},\n",
       " {'answer': u'yes', 'question_id': 3970452},\n",
       " {'answer': u'10', 'question_id': 4606840},\n",
       " {'answer': u'yes', 'question_id': 4606841},\n",
       " {'answer': u'10', 'question_id': 4606842},\n",
       " {'answer': u'yes', 'question_id': 1330500},\n",
       " {'answer': u'yes', 'question_id': 1330501},\n",
       " {'answer': u'yes', 'question_id': 1330502},\n",
       " {'answer': u'yes', 'question_id': 2042880},\n",
       " {'answer': u'10', 'question_id': 2042881},\n",
       " {'answer': u'yes', 'question_id': 2042882},\n",
       " {'answer': u'yes', 'question_id': 1817960},\n",
       " {'answer': u'yes', 'question_id': 1817961},\n",
       " {'answer': u'yes', 'question_id': 1817962},\n",
       " {'answer': u'yes', 'question_id': 24770},\n",
       " {'answer': u'yes', 'question_id': 24771},\n",
       " {'answer': u'10', 'question_id': 24772},\n",
       " {'answer': u'10', 'question_id': 969980},\n",
       " {'answer': u'yes', 'question_id': 969981},\n",
       " {'answer': u'yes', 'question_id': 969982},\n",
       " {'answer': u'yes', 'question_id': 3115312},\n",
       " {'answer': u'yes', 'question_id': 3115310},\n",
       " {'answer': u'yes', 'question_id': 3115311},\n",
       " {'answer': u'yes', 'question_id': 3893890},\n",
       " {'answer': u'yes', 'question_id': 3893891},\n",
       " {'answer': u'10', 'question_id': 3893892},\n",
       " {'answer': u'yes', 'question_id': 868480},\n",
       " {'answer': u'yes', 'question_id': 868481},\n",
       " {'answer': u'yes', 'question_id': 868482},\n",
       " {'answer': u'yes', 'question_id': 1608890},\n",
       " {'answer': u'yes', 'question_id': 1608891},\n",
       " {'answer': u'10', 'question_id': 1608892},\n",
       " {'answer': u'yes', 'question_id': 2534410},\n",
       " {'answer': u'yes', 'question_id': 2534411},\n",
       " {'answer': u'yes', 'question_id': 2534412},\n",
       " {'answer': u'10', 'question_id': 1567272},\n",
       " {'answer': u'yes', 'question_id': 1567270},\n",
       " {'answer': u'yes', 'question_id': 1567271},\n",
       " {'answer': u'10', 'question_id': 4368480},\n",
       " {'answer': u'10', 'question_id': 4368481},\n",
       " {'answer': u'10', 'question_id': 4368482},\n",
       " {'answer': u'10', 'question_id': 1057340},\n",
       " {'answer': u'10', 'question_id': 1057341},\n",
       " {'answer': u'10', 'question_id': 1057342},\n",
       " {'answer': u'yes', 'question_id': 2938112},\n",
       " {'answer': u'yes', 'question_id': 2938110},\n",
       " {'answer': u'yes', 'question_id': 2938111},\n",
       " {'answer': u'yes', 'question_id': 3985192},\n",
       " {'answer': u'yes', 'question_id': 3985190},\n",
       " {'answer': u'yes', 'question_id': 3985191},\n",
       " {'answer': u'10', 'question_id': 45760},\n",
       " {'answer': u'10', 'question_id': 45761},\n",
       " {'answer': u'yes', 'question_id': 45762},\n",
       " {'answer': u'yes', 'question_id': 3337460},\n",
       " {'answer': u'yes', 'question_id': 3337461},\n",
       " {'answer': u'yes', 'question_id': 3337462},\n",
       " {'answer': u'10', 'question_id': 42290},\n",
       " {'answer': u'10', 'question_id': 42291},\n",
       " {'answer': u'yes', 'question_id': 42292},\n",
       " {'answer': u'yes', 'question_id': 1664370},\n",
       " {'answer': u'yes', 'question_id': 1664371},\n",
       " {'answer': u'10', 'question_id': 1664372},\n",
       " {'answer': u'10', 'question_id': 2066200},\n",
       " {'answer': u'10', 'question_id': 2066201},\n",
       " {'answer': u'yes', 'question_id': 2066202},\n",
       " {'answer': u'yes', 'question_id': 4617580},\n",
       " {'answer': u'10', 'question_id': 4617581},\n",
       " {'answer': u'yes', 'question_id': 4617582},\n",
       " {'answer': u'yes', 'question_id': 2029980},\n",
       " {'answer': u'yes', 'question_id': 2029981},\n",
       " {'answer': u'10', 'question_id': 2029982},\n",
       " {'answer': u'yes', 'question_id': 3827580},\n",
       " {'answer': u'10', 'question_id': 3827581},\n",
       " {'answer': u'yes', 'question_id': 3827582},\n",
       " {'answer': u'yes', 'question_id': 1115460},\n",
       " {'answer': u'yes', 'question_id': 1115461},\n",
       " {'answer': u'yes', 'question_id': 1115462},\n",
       " {'answer': u'yes', 'question_id': 3218860},\n",
       " {'answer': u'10', 'question_id': 3218861},\n",
       " {'answer': u'yes', 'question_id': 3218862},\n",
       " {'answer': u'10', 'question_id': 2007392},\n",
       " {'answer': u'yes', 'question_id': 2007390},\n",
       " {'answer': u'10', 'question_id': 2007391},\n",
       " {'answer': u'yes', 'question_id': 5191820},\n",
       " {'answer': u'yes', 'question_id': 5191821},\n",
       " {'answer': u'10', 'question_id': 5191822},\n",
       " {'answer': u'10', 'question_id': 3833840},\n",
       " {'answer': u'yes', 'question_id': 3833841},\n",
       " {'answer': u'yes', 'question_id': 3833842},\n",
       " {'answer': u'yes', 'question_id': 1963420},\n",
       " {'answer': u'10', 'question_id': 1963421},\n",
       " {'answer': u'10', 'question_id': 1963422},\n",
       " {'answer': u'yes', 'question_id': 2398610},\n",
       " {'answer': u'10', 'question_id': 2398611},\n",
       " {'answer': u'yes', 'question_id': 2398612},\n",
       " {'answer': u'yes', 'question_id': 5084890},\n",
       " {'answer': u'yes', 'question_id': 5084891},\n",
       " {'answer': u'yes', 'question_id': 5084892},\n",
       " {'answer': u'10', 'question_id': 4973752},\n",
       " {'answer': u'10', 'question_id': 4973750},\n",
       " {'answer': u'10', 'question_id': 4973751},\n",
       " {'answer': u'yes', 'question_id': 4996720},\n",
       " {'answer': u'yes', 'question_id': 4996721},\n",
       " {'answer': u'yes', 'question_id': 4996722},\n",
       " {'answer': u'yes', 'question_id': 916360},\n",
       " {'answer': u'10', 'question_id': 916361},\n",
       " {'answer': u'yes', 'question_id': 916362},\n",
       " {'answer': u'yes', 'question_id': 1249520},\n",
       " {'answer': u'10', 'question_id': 1249521},\n",
       " {'answer': u'yes', 'question_id': 1249522},\n",
       " {'answer': u'10', 'question_id': 1532880},\n",
       " {'answer': u'yes', 'question_id': 1532881},\n",
       " {'answer': u'10', 'question_id': 1532882},\n",
       " {'answer': u'10', 'question_id': 5548380},\n",
       " {'answer': u'yes', 'question_id': 5548381},\n",
       " {'answer': u'yes', 'question_id': 5548382},\n",
       " {'answer': u'yes', 'question_id': 2306100},\n",
       " {'answer': u'yes', 'question_id': 2306101},\n",
       " {'answer': u'yes', 'question_id': 2306102},\n",
       " {'answer': u'yes', 'question_id': 5515810},\n",
       " {'answer': u'yes', 'question_id': 5515811},\n",
       " {'answer': u'yes', 'question_id': 5515812},\n",
       " {'answer': u'10', 'question_id': 204810},\n",
       " {'answer': u'yes', 'question_id': 204811},\n",
       " {'answer': u'yes', 'question_id': 204812},\n",
       " {'answer': u'yes', 'question_id': 3244192},\n",
       " {'answer': u'yes', 'question_id': 3244190},\n",
       " {'answer': u'yes', 'question_id': 3244191},\n",
       " {'answer': u'yes', 'question_id': 2837720},\n",
       " {'answer': u'yes', 'question_id': 2837721},\n",
       " {'answer': u'yes', 'question_id': 2837722},\n",
       " {'answer': u'yes', 'question_id': 2482840},\n",
       " {'answer': u'yes', 'question_id': 2482841},\n",
       " {'answer': u'yes', 'question_id': 2482842},\n",
       " {'answer': u'yes', 'question_id': 1492220},\n",
       " {'answer': u'10', 'question_id': 1492221},\n",
       " {'answer': u'yes', 'question_id': 1492222},\n",
       " {'answer': u'yes', 'question_id': 1763632},\n",
       " {'answer': u'yes', 'question_id': 1763630},\n",
       " {'answer': u'10', 'question_id': 1763631},\n",
       " {'answer': u'yes', 'question_id': 1386440},\n",
       " {'answer': u'10', 'question_id': 1386441},\n",
       " {'answer': u'10', 'question_id': 1386442},\n",
       " {'answer': u'10', 'question_id': 3600970},\n",
       " {'answer': u'yes', 'question_id': 3600971},\n",
       " {'answer': u'yes', 'question_id': 3600972},\n",
       " {'answer': u'yes', 'question_id': 4830130},\n",
       " {'answer': u'yes', 'question_id': 4830131},\n",
       " {'answer': u'yes', 'question_id': 4830132},\n",
       " {'answer': u'yes', 'question_id': 3180800},\n",
       " {'answer': u'yes', 'question_id': 3180801},\n",
       " {'answer': u'yes', 'question_id': 3180802},\n",
       " {'answer': u'yes', 'question_id': 660380},\n",
       " {'answer': u'10', 'question_id': 660381},\n",
       " {'answer': u'10', 'question_id': 660382},\n",
       " {'answer': u'yes', 'question_id': 2981970},\n",
       " {'answer': u'yes', 'question_id': 2981971},\n",
       " {'answer': u'yes', 'question_id': 2981972},\n",
       " {'answer': u'yes', 'question_id': 1599690},\n",
       " {'answer': u'yes', 'question_id': 1599691},\n",
       " {'answer': u'yes', 'question_id': 1599692},\n",
       " {'answer': u'10', 'question_id': 5121120},\n",
       " {'answer': u'yes', 'question_id': 5121121},\n",
       " {'answer': u'10', 'question_id': 5121122},\n",
       " {'answer': u'10', 'question_id': 4883272},\n",
       " {'answer': u'yes', 'question_id': 4883270},\n",
       " {'answer': u'yes', 'question_id': 4883271},\n",
       " {'answer': u'yes', 'question_id': 2287210},\n",
       " {'answer': u'yes', 'question_id': 2287211},\n",
       " {'answer': u'yes', 'question_id': 2287212},\n",
       " {'answer': u'yes', 'question_id': 4075740},\n",
       " {'answer': u'10', 'question_id': 4075741},\n",
       " {'answer': u'yes', 'question_id': 4075742},\n",
       " {'answer': u'yes', 'question_id': 1971300},\n",
       " {'answer': u'10', 'question_id': 1971301},\n",
       " {'answer': u'10', 'question_id': 1971302},\n",
       " {'answer': u'yes', 'question_id': 4779060},\n",
       " {'answer': u'10', 'question_id': 4779061},\n",
       " {'answer': u'10', 'question_id': 4779062},\n",
       " {'answer': u'yes', 'question_id': 5700392},\n",
       " {'answer': u'yes', 'question_id': 5700390},\n",
       " {'answer': u'yes', 'question_id': 5700391},\n",
       " {'answer': u'yes', 'question_id': 1057860},\n",
       " {'answer': u'yes', 'question_id': 1057861},\n",
       " {'answer': u'10', 'question_id': 1057862},\n",
       " {'answer': u'10', 'question_id': 198900},\n",
       " {'answer': u'yes', 'question_id': 198901},\n",
       " {'answer': u'10', 'question_id': 198902},\n",
       " {'answer': u'yes', 'question_id': 425760},\n",
       " {'answer': u'yes', 'question_id': 425761},\n",
       " {'answer': u'10', 'question_id': 425762},\n",
       " {'answer': u'yes', 'question_id': 5234032},\n",
       " {'answer': u'yes', 'question_id': 5234030},\n",
       " {'answer': u'yes', 'question_id': 5234031},\n",
       " {'answer': u'yes', 'question_id': 3320960},\n",
       " {'answer': u'yes', 'question_id': 3320961},\n",
       " {'answer': u'yes', 'question_id': 3320962},\n",
       " {'answer': u'10', 'question_id': 3187220},\n",
       " {'answer': u'yes', 'question_id': 3187221},\n",
       " {'answer': u'10', 'question_id': 3187222},\n",
       " {'answer': u'10', 'question_id': 4410720},\n",
       " {'answer': u'yes', 'question_id': 4410721},\n",
       " {'answer': u'yes', 'question_id': 4410722},\n",
       " {'answer': u'yes', 'question_id': 1069000},\n",
       " {'answer': u'yes', 'question_id': 1069001},\n",
       " {'answer': u'yes', 'question_id': 1069002},\n",
       " {'answer': u'10', 'question_id': 1373210},\n",
       " {'answer': u'yes', 'question_id': 1373211},\n",
       " {'answer': u'yes', 'question_id': 1373212},\n",
       " {'answer': u'yes', 'question_id': 100232},\n",
       " {'answer': u'10', 'question_id': 100230},\n",
       " {'answer': u'yes', 'question_id': 100231},\n",
       " {'answer': u'yes', 'question_id': 3318832},\n",
       " {'answer': u'yes', 'question_id': 3318830},\n",
       " {'answer': u'yes', 'question_id': 3318831},\n",
       " {'answer': u'yes', 'question_id': 3791010},\n",
       " {'answer': u'yes', 'question_id': 3791011},\n",
       " {'answer': u'yes', 'question_id': 3791012},\n",
       " {'answer': u'yes', 'question_id': 3368720},\n",
       " {'answer': u'10', 'question_id': 3368721},\n",
       " {'answer': u'10', 'question_id': 3368722},\n",
       " {'answer': u'10', 'question_id': 1874960},\n",
       " {'answer': u'10', 'question_id': 1874961},\n",
       " {'answer': u'yes', 'question_id': 1874962},\n",
       " {'answer': u'yes', 'question_id': 807140},\n",
       " {'answer': u'yes', 'question_id': 807141},\n",
       " {'answer': u'yes', 'question_id': 807142},\n",
       " {'answer': u'10', 'question_id': 2454320},\n",
       " {'answer': u'yes', 'question_id': 2454321},\n",
       " {'answer': u'yes', 'question_id': 2454322},\n",
       " {'answer': u'yes', 'question_id': 2940352},\n",
       " {'answer': u'10', 'question_id': 2940350},\n",
       " {'answer': u'yes', 'question_id': 2940351},\n",
       " {'answer': u'10', 'question_id': 678330},\n",
       " {'answer': u'yes', 'question_id': 678331},\n",
       " {'answer': u'yes', 'question_id': 678332},\n",
       " {'answer': u'yes', 'question_id': 815520},\n",
       " {'answer': u'yes', 'question_id': 815521},\n",
       " {'answer': u'yes', 'question_id': 815522},\n",
       " {'answer': u'10', 'question_id': 5267560},\n",
       " {'answer': u'10', 'question_id': 5267561},\n",
       " {'answer': u'yes', 'question_id': 5267562},\n",
       " {'answer': u'10', 'question_id': 2679460},\n",
       " {'answer': u'yes', 'question_id': 2679461},\n",
       " {'answer': u'10', 'question_id': 2679462},\n",
       " {'answer': u'yes', 'question_id': 4960992},\n",
       " {'answer': u'yes', 'question_id': 4960990},\n",
       " {'answer': u'10', 'question_id': 4960991},\n",
       " {'answer': u'yes', 'question_id': 2841520},\n",
       " {'answer': u'10', 'question_id': 2841521},\n",
       " {'answer': u'10', 'question_id': 2841522},\n",
       " {'answer': u'yes', 'question_id': 3837060},\n",
       " {'answer': u'yes', 'question_id': 3837061},\n",
       " {'answer': u'10', 'question_id': 3837062},\n",
       " {'answer': u'yes', 'question_id': 25290},\n",
       " {'answer': u'yes', 'question_id': 25291},\n",
       " {'answer': u'10', 'question_id': 25292},\n",
       " {'answer': u'10', 'question_id': 328920},\n",
       " {'answer': u'yes', 'question_id': 328921},\n",
       " {'answer': u'yes', 'question_id': 328922},\n",
       " {'answer': u'10', 'question_id': 1993392},\n",
       " {'answer': u'yes', 'question_id': 1993390},\n",
       " {'answer': u'10', 'question_id': 1993391},\n",
       " {'answer': u'10', 'question_id': 3152490},\n",
       " {'answer': u'yes', 'question_id': 3152491},\n",
       " {'answer': u'yes', 'question_id': 3152492},\n",
       " {'answer': u'yes', 'question_id': 1262720},\n",
       " {'answer': u'10', 'question_id': 1262721},\n",
       " {'answer': u'yes', 'question_id': 1262722},\n",
       " {'answer': u'yes', 'question_id': 11032},\n",
       " {'answer': u'yes', 'question_id': 11030},\n",
       " {'answer': u'10', 'question_id': 11031},\n",
       " {'answer': u'yes', 'question_id': 5552170},\n",
       " {'answer': u'yes', 'question_id': 5552171},\n",
       " {'answer': u'10', 'question_id': 5552172},\n",
       " {'answer': u'yes', 'question_id': 990530},\n",
       " {'answer': u'yes', 'question_id': 990531},\n",
       " {'answer': u'yes', 'question_id': 990532},\n",
       " {'answer': u'yes', 'question_id': 5589760},\n",
       " {'answer': u'yes', 'question_id': 5589761},\n",
       " {'answer': u'10', 'question_id': 5589762},\n",
       " {'answer': u'yes', 'question_id': 731992},\n",
       " {'answer': u'yes', 'question_id': 731990},\n",
       " {'answer': u'10', 'question_id': 731991},\n",
       " {'answer': u'10', 'question_id': 1326440},\n",
       " {'answer': u'yes', 'question_id': 1326441},\n",
       " {'answer': u'yes', 'question_id': 1326442},\n",
       " {'answer': u'yes', 'question_id': 893592},\n",
       " {'answer': u'10', 'question_id': 893590},\n",
       " {'answer': u'yes', 'question_id': 893591},\n",
       " {'answer': u'yes', 'question_id': 3046570},\n",
       " {'answer': u'yes', 'question_id': 3046571},\n",
       " {'answer': u'10', 'question_id': 3046572},\n",
       " {'answer': u'yes', 'question_id': 5629060},\n",
       " {'answer': u'yes', 'question_id': 5629061},\n",
       " {'answer': u'10', 'question_id': 5629062},\n",
       " {'answer': u'yes', 'question_id': 1984920},\n",
       " {'answer': u'yes', 'question_id': 1984921},\n",
       " {'answer': u'10', 'question_id': 1984922},\n",
       " {'answer': u'yes', 'question_id': 1523330},\n",
       " {'answer': u'yes', 'question_id': 1523331},\n",
       " {'answer': u'yes', 'question_id': 1523332},\n",
       " {'answer': u'yes', 'question_id': 2916860},\n",
       " {'answer': u'yes', 'question_id': 2916861},\n",
       " {'answer': u'10', 'question_id': 2916862},\n",
       " {'answer': u'yes', 'question_id': 5117130},\n",
       " {'answer': u'10', 'question_id': 5117131},\n",
       " {'answer': u'yes', 'question_id': 5117132},\n",
       " {'answer': u'yes', 'question_id': 2740832},\n",
       " {'answer': u'yes', 'question_id': 2740830},\n",
       " {'answer': u'yes', 'question_id': 2740831},\n",
       " {'answer': u'yes', 'question_id': 1568890},\n",
       " {'answer': u'yes', 'question_id': 1568891},\n",
       " {'answer': u'yes', 'question_id': 1568892},\n",
       " {'answer': u'yes', 'question_id': 4758820},\n",
       " {'answer': u'10', 'question_id': 4758821},\n",
       " {'answer': u'10', 'question_id': 4758822},\n",
       " {'answer': u'yes', 'question_id': 536060},\n",
       " {'answer': u'yes', 'question_id': 536061},\n",
       " {'answer': u'10', 'question_id': 536062},\n",
       " {'answer': u'yes', 'question_id': 5701850},\n",
       " {'answer': u'yes', 'question_id': 5701851},\n",
       " {'answer': u'yes', 'question_id': 5701852},\n",
       " {'answer': u'10', 'question_id': 934340},\n",
       " {'answer': u'yes', 'question_id': 934341},\n",
       " {'answer': u'10', 'question_id': 934342},\n",
       " {'answer': u'10', 'question_id': 4846272},\n",
       " {'answer': u'10', 'question_id': 4846270},\n",
       " {'answer': u'10', 'question_id': 4846271},\n",
       " {'answer': u'yes', 'question_id': 5720170},\n",
       " {'answer': u'yes', 'question_id': 5720171},\n",
       " {'answer': u'10', 'question_id': 5720172},\n",
       " {'answer': u'10', 'question_id': 2344992},\n",
       " {'answer': u'10', 'question_id': 2344990},\n",
       " {'answer': u'yes', 'question_id': 2344991},\n",
       " {'answer': u'10', 'question_id': 3615210},\n",
       " {'answer': u'yes', 'question_id': 3615211},\n",
       " {'answer': u'yes', 'question_id': 3615212},\n",
       " {'answer': u'yes', 'question_id': 4553250},\n",
       " {'answer': u'yes', 'question_id': 4553251},\n",
       " {'answer': u'yes', 'question_id': 4553252},\n",
       " {'answer': u'10', 'question_id': 1295660},\n",
       " {'answer': u'yes', 'question_id': 1295661},\n",
       " {'answer': u'yes', 'question_id': 1295662},\n",
       " {'answer': u'yes', 'question_id': 1532490},\n",
       " {'answer': u'yes', 'question_id': 1532491},\n",
       " {'answer': u'yes', 'question_id': 1532492},\n",
       " {'answer': u'10', 'question_id': 1069090},\n",
       " {'answer': u'yes', 'question_id': 1069091},\n",
       " {'answer': u'yes', 'question_id': 1069092},\n",
       " {'answer': u'yes', 'question_id': 5000192},\n",
       " {'answer': u'10', 'question_id': 5000190},\n",
       " {'answer': u'yes', 'question_id': 5000191},\n",
       " {'answer': u'10', 'question_id': 1182600},\n",
       " {'answer': u'yes', 'question_id': 1182601},\n",
       " {'answer': u'yes', 'question_id': 1182602},\n",
       " {'answer': u'yes', 'question_id': 5562400},\n",
       " {'answer': u'yes', 'question_id': 5562401},\n",
       " {'answer': u'yes', 'question_id': 5562402},\n",
       " {'answer': u'yes', 'question_id': 5304700},\n",
       " {'answer': u'yes', 'question_id': 5304701},\n",
       " {'answer': u'yes', 'question_id': 5304702},\n",
       " {'answer': u'yes', 'question_id': 4490380},\n",
       " {'answer': u'10', 'question_id': 4490381},\n",
       " {'answer': u'yes', 'question_id': 4490382},\n",
       " {'answer': u'yes', 'question_id': 748320},\n",
       " {'answer': u'10', 'question_id': 748321},\n",
       " {'answer': u'10', 'question_id': 748322},\n",
       " {'answer': u'yes', 'question_id': 622500},\n",
       " {'answer': u'yes', 'question_id': 622501},\n",
       " {'answer': u'yes', 'question_id': 622502},\n",
       " {'answer': u'yes', 'question_id': 5615992},\n",
       " {'answer': u'yes', 'question_id': 5615990},\n",
       " {'answer': u'yes', 'question_id': 5615991},\n",
       " {'answer': u'10', 'question_id': 821570},\n",
       " {'answer': u'yes', 'question_id': 821571},\n",
       " {'answer': u'yes', 'question_id': 821572},\n",
       " {'answer': u'yes', 'question_id': 1438592},\n",
       " {'answer': u'10', 'question_id': 1438590},\n",
       " {'answer': u'10', 'question_id': 1438591},\n",
       " {'answer': u'yes', 'question_id': 4562392},\n",
       " {'answer': u'yes', 'question_id': 4562390},\n",
       " {'answer': u'yes', 'question_id': 4562391},\n",
       " {'answer': u'yes', 'question_id': 209060},\n",
       " {'answer': u'10', 'question_id': 209061},\n",
       " {'answer': u'10', 'question_id': 209062},\n",
       " {'answer': u'10', 'question_id': 1537820},\n",
       " {'answer': u'10', 'question_id': 1537821},\n",
       " {'answer': u'10', 'question_id': 1537822},\n",
       " {'answer': u'yes', 'question_id': 3563680},\n",
       " {'answer': u'yes', 'question_id': 3563681},\n",
       " {'answer': u'10', 'question_id': 3563682},\n",
       " {'answer': u'yes', 'question_id': 1682000},\n",
       " {'answer': u'10', 'question_id': 1682001},\n",
       " {'answer': u'10', 'question_id': 1682002},\n",
       " {'answer': u'yes', 'question_id': 4292610},\n",
       " {'answer': u'yes', 'question_id': 4292611},\n",
       " {'answer': u'10', 'question_id': 4292612},\n",
       " {'answer': u'10', 'question_id': 3510810},\n",
       " {'answer': u'yes', 'question_id': 3510811},\n",
       " {'answer': u'yes', 'question_id': 3510812},\n",
       " {'answer': u'10', 'question_id': 1431032},\n",
       " {'answer': u'10', 'question_id': 1431030},\n",
       " {'answer': u'yes', 'question_id': 1431031},\n",
       " {'answer': u'10', 'question_id': 3975232},\n",
       " {'answer': u'yes', 'question_id': 3975230},\n",
       " {'answer': u'10', 'question_id': 3975231},\n",
       " {'answer': u'yes', 'question_id': 4507620},\n",
       " {'answer': u'yes', 'question_id': 4507621},\n",
       " {'answer': u'10', 'question_id': 4507622},\n",
       " {'answer': u'10', 'question_id': 4536490},\n",
       " {'answer': u'yes', 'question_id': 4536491},\n",
       " {'answer': u'10', 'question_id': 4536492},\n",
       " {'answer': u'10', 'question_id': 3821250},\n",
       " {'answer': u'yes', 'question_id': 3821251},\n",
       " {'answer': u'yes', 'question_id': 3821252},\n",
       " {'answer': u'yes', 'question_id': 4279800},\n",
       " {'answer': u'yes', 'question_id': 4279801},\n",
       " {'answer': u'10', 'question_id': 4279802},\n",
       " {'answer': u'yes', 'question_id': 692130},\n",
       " {'answer': u'yes', 'question_id': 692131},\n",
       " {'answer': u'yes', 'question_id': 692132},\n",
       " {'answer': u'yes', 'question_id': 3266640},\n",
       " {'answer': u'yes', 'question_id': 3266641},\n",
       " {'answer': u'yes', 'question_id': 3266642},\n",
       " {'answer': u'yes', 'question_id': 3126820},\n",
       " {'answer': u'10', 'question_id': 3126821},\n",
       " {'answer': u'yes', 'question_id': 3126822},\n",
       " {'answer': u'10', 'question_id': 2748700},\n",
       " {'answer': u'yes', 'question_id': 2748701},\n",
       " {'answer': u'yes', 'question_id': 2748702},\n",
       " {'answer': u'yes', 'question_id': 15250},\n",
       " {'answer': u'yes', 'question_id': 15251},\n",
       " {'answer': u'10', 'question_id': 15252},\n",
       " {'answer': u'yes', 'question_id': 2621890},\n",
       " {'answer': u'10', 'question_id': 2621891},\n",
       " {'answer': u'yes', 'question_id': 2621892},\n",
       " {'answer': u'yes', 'question_id': 407792},\n",
       " {'answer': u'yes', 'question_id': 407790},\n",
       " {'answer': u'yes', 'question_id': 407791},\n",
       " {'answer': u'10', 'question_id': 334992},\n",
       " {'answer': u'yes', 'question_id': 334990},\n",
       " {'answer': u'yes', 'question_id': 334991},\n",
       " {'answer': u'yes', 'question_id': 2740100},\n",
       " {'answer': u'yes', 'question_id': 2740101},\n",
       " {'answer': u'yes', 'question_id': 2740102},\n",
       " {'answer': u'yes', 'question_id': 2261192},\n",
       " {'answer': u'yes', 'question_id': 2261190},\n",
       " {'answer': u'yes', 'question_id': 2261191},\n",
       " {'answer': u'yes', 'question_id': 195440},\n",
       " {'answer': u'10', 'question_id': 195441},\n",
       " {'answer': u'10', 'question_id': 195442},\n",
       " {'answer': u'10', 'question_id': 5012940},\n",
       " {'answer': u'yes', 'question_id': 5012941},\n",
       " {'answer': u'yes', 'question_id': 5012942},\n",
       " {'answer': u'yes', 'question_id': 406352},\n",
       " {'answer': u'yes', 'question_id': 406350},\n",
       " {'answer': u'10', 'question_id': 406351},\n",
       " {'answer': u'yes', 'question_id': 3849312},\n",
       " {'answer': u'10', 'question_id': 3849310},\n",
       " {'answer': u'yes', 'question_id': 3849311},\n",
       " {'answer': u'yes', 'question_id': 2840970},\n",
       " {'answer': u'yes', 'question_id': 2840971},\n",
       " {'answer': u'yes', 'question_id': 2840972},\n",
       " {'answer': u'yes', 'question_id': 780930},\n",
       " {'answer': u'yes', 'question_id': 780931},\n",
       " {'answer': u'yes', 'question_id': 780932},\n",
       " {'answer': u'yes', 'question_id': 4168370},\n",
       " {'answer': u'10', 'question_id': 4168371},\n",
       " {'answer': u'10', 'question_id': 4168372},\n",
       " {'answer': u'yes', 'question_id': 1794300},\n",
       " {'answer': u'yes', 'question_id': 1794301},\n",
       " {'answer': u'10', 'question_id': 1794302},\n",
       " {'answer': u'yes', 'question_id': 54760},\n",
       " {'answer': u'10', 'question_id': 54761},\n",
       " {'answer': u'yes', 'question_id': 54762},\n",
       " {'answer': u'yes', 'question_id': 1934240},\n",
       " {'answer': u'10', 'question_id': 1934241},\n",
       " {'answer': u'10', 'question_id': 1934242},\n",
       " {'answer': u'yes', 'question_id': 1976832},\n",
       " {'answer': u'yes', 'question_id': 1976830},\n",
       " {'answer': u'10', 'question_id': 1976831},\n",
       " {'answer': u'yes', 'question_id': 5209410},\n",
       " {'answer': u'10', 'question_id': 5209411},\n",
       " {'answer': u'10', 'question_id': 5209412},\n",
       " {'answer': u'yes', 'question_id': 5615632},\n",
       " {'answer': u'yes', 'question_id': 5615630},\n",
       " {'answer': u'yes', 'question_id': 5615631},\n",
       " {'answer': u'10', 'question_id': 4980610},\n",
       " {'answer': u'10', 'question_id': 4980611},\n",
       " {'answer': u'yes', 'question_id': 4980612},\n",
       " {'answer': u'yes', 'question_id': 4741640},\n",
       " {'answer': u'yes', 'question_id': 4741641},\n",
       " {'answer': u'yes', 'question_id': 4741642},\n",
       " {'answer': u'yes', 'question_id': 771020},\n",
       " {'answer': u'10', 'question_id': 771021},\n",
       " {'answer': u'yes', 'question_id': 771022},\n",
       " {'answer': u'10', 'question_id': 188640},\n",
       " {'answer': u'yes', 'question_id': 188641},\n",
       " {'answer': u'yes', 'question_id': 188642},\n",
       " {'answer': u'10', 'question_id': 3668730},\n",
       " {'answer': u'yes', 'question_id': 3668731},\n",
       " {'answer': u'yes', 'question_id': 3668732},\n",
       " {'answer': u'yes', 'question_id': 3958312},\n",
       " {'answer': u'yes', 'question_id': 3958310},\n",
       " {'answer': u'yes', 'question_id': 3958311},\n",
       " {'answer': u'yes', 'question_id': 2750580},\n",
       " {'answer': u'yes', 'question_id': 2750581},\n",
       " {'answer': u'yes', 'question_id': 2750582},\n",
       " {'answer': u'yes', 'question_id': 2899410},\n",
       " {'answer': u'yes', 'question_id': 2899411},\n",
       " {'answer': u'10', 'question_id': 2899412},\n",
       " {'answer': u'10', 'question_id': 4046680},\n",
       " {'answer': u'yes', 'question_id': 4046681},\n",
       " {'answer': u'10', 'question_id': 4046682},\n",
       " {'answer': u'yes', 'question_id': 3712450},\n",
       " {'answer': u'yes', 'question_id': 3712451},\n",
       " {'answer': u'yes', 'question_id': 3712452},\n",
       " {'answer': u'yes', 'question_id': 1519700},\n",
       " {'answer': u'yes', 'question_id': 1519701},\n",
       " {'answer': u'10', 'question_id': 1519702},\n",
       " {'answer': u'yes', 'question_id': 5335530},\n",
       " {'answer': u'yes', 'question_id': 5335531},\n",
       " {'answer': u'yes', 'question_id': 5335532},\n",
       " {'answer': u'yes', 'question_id': 203050},\n",
       " {'answer': u'10', 'question_id': 203051},\n",
       " {'answer': u'yes', 'question_id': 203052},\n",
       " {'answer': u'yes', 'question_id': 892580},\n",
       " {'answer': u'yes', 'question_id': 892581},\n",
       " {'answer': u'10', 'question_id': 892582},\n",
       " {'answer': u'10', 'question_id': 132320},\n",
       " {'answer': u'10', 'question_id': 132321},\n",
       " {'answer': u'yes', 'question_id': 132322},\n",
       " {'answer': u'yes', 'question_id': 2714520},\n",
       " {'answer': u'10', 'question_id': 2714521},\n",
       " {'answer': u'yes', 'question_id': 2714522},\n",
       " {'answer': u'yes', 'question_id': 1014730},\n",
       " {'answer': u'yes', 'question_id': 1014731},\n",
       " {'answer': u'yes', 'question_id': 1014732},\n",
       " {'answer': u'yes', 'question_id': 4222210},\n",
       " {'answer': u'yes', 'question_id': 4222211},\n",
       " {'answer': u'yes', 'question_id': 4222212},\n",
       " {'answer': u'yes', 'question_id': 5402072},\n",
       " {'answer': u'yes', 'question_id': 5402070},\n",
       " {'answer': u'yes', 'question_id': 5402071},\n",
       " {'answer': u'yes', 'question_id': 3556600},\n",
       " {'answer': u'10', 'question_id': 3556601},\n",
       " {'answer': u'yes', 'question_id': 3556602},\n",
       " {'answer': u'yes', 'question_id': 4827072},\n",
       " {'answer': u'10', 'question_id': 4827070},\n",
       " {'answer': u'yes', 'question_id': 4827071},\n",
       " {'answer': u'yes', 'question_id': 1844020},\n",
       " {'answer': u'10', 'question_id': 1844021},\n",
       " {'answer': u'yes', 'question_id': 1844022},\n",
       " {'answer': u'yes', 'question_id': 2237570},\n",
       " {'answer': u'10', 'question_id': 2237571},\n",
       " {'answer': u'10', 'question_id': 2237572},\n",
       " {'answer': u'yes', 'question_id': 1812960},\n",
       " {'answer': u'yes', 'question_id': 1812961},\n",
       " {'answer': u'10', 'question_id': 1812962},\n",
       " {'answer': u'yes', 'question_id': 2626770},\n",
       " {'answer': u'10', 'question_id': 2626771},\n",
       " {'answer': u'10', 'question_id': 2626772},\n",
       " {'answer': u'yes', 'question_id': 1325872},\n",
       " {'answer': u'yes', 'question_id': 1325870},\n",
       " {'answer': u'yes', 'question_id': 1325871},\n",
       " {'answer': u'10', 'question_id': 1197290},\n",
       " {'answer': u'10', 'question_id': 1197291},\n",
       " {'answer': u'10', 'question_id': 1197292},\n",
       " {'answer': u'yes', 'question_id': 3027600},\n",
       " {'answer': u'10', 'question_id': 3027601},\n",
       " {'answer': u'yes', 'question_id': 3027602},\n",
       " {'answer': u'yes', 'question_id': 934352},\n",
       " {'answer': u'yes', 'question_id': 934350},\n",
       " {'answer': u'yes', 'question_id': 934351},\n",
       " {'answer': u'10', 'question_id': 5771280},\n",
       " {'answer': u'yes', 'question_id': 5771281},\n",
       " {'answer': u'10', 'question_id': 5771282},\n",
       " {'answer': u'10', 'question_id': 4056570},\n",
       " {'answer': u'yes', 'question_id': 4056571},\n",
       " {'answer': u'yes', 'question_id': 4056572},\n",
       " {'answer': u'yes', 'question_id': 2748032},\n",
       " {'answer': u'yes', 'question_id': 2748030},\n",
       " {'answer': u'yes', 'question_id': 2748031},\n",
       " {'answer': u'yes', 'question_id': 5250240},\n",
       " {'answer': u'yes', 'question_id': 5250241},\n",
       " {'answer': u'10', 'question_id': 5250242},\n",
       " {'answer': u'yes', 'question_id': 3888580},\n",
       " {'answer': u'10', 'question_id': 3888581},\n",
       " {'answer': u'yes', 'question_id': 3888582},\n",
       " {'answer': u'yes', 'question_id': 1334640},\n",
       " {'answer': u'yes', 'question_id': 1334641},\n",
       " {'answer': u'yes', 'question_id': 1334642},\n",
       " {'answer': u'yes', 'question_id': 844100},\n",
       " {'answer': u'10', 'question_id': 844101},\n",
       " {'answer': u'yes', 'question_id': 844102},\n",
       " {'answer': u'yes', 'question_id': 4530650},\n",
       " {'answer': u'yes', 'question_id': 4530651},\n",
       " {'answer': u'10', 'question_id': 4530652},\n",
       " {'answer': u'yes', 'question_id': 2195672},\n",
       " {'answer': u'yes', 'question_id': 2195670},\n",
       " {'answer': u'yes', 'question_id': 2195671},\n",
       " {'answer': u'yes', 'question_id': 3077730},\n",
       " {'answer': u'10', 'question_id': 3077731},\n",
       " {'answer': u'yes', 'question_id': 3077732},\n",
       " {'answer': u'yes', 'question_id': 3637672},\n",
       " {'answer': u'yes', 'question_id': 3637670},\n",
       " {'answer': u'yes', 'question_id': 3637671},\n",
       " {'answer': u'yes', 'question_id': 2124210},\n",
       " {'answer': u'yes', 'question_id': 2124211},\n",
       " {'answer': u'yes', 'question_id': 2124212},\n",
       " {'answer': u'10', 'question_id': 2015500},\n",
       " {'answer': u'yes', 'question_id': 2015501},\n",
       " {'answer': u'10', 'question_id': 2015502},\n",
       " {'answer': u'10', 'question_id': 4150480},\n",
       " {'answer': u'yes', 'question_id': 4150481},\n",
       " {'answer': u'yes', 'question_id': 4150482},\n",
       " {'answer': u'yes', 'question_id': 1707290},\n",
       " {'answer': u'yes', 'question_id': 1707291},\n",
       " {'answer': u'yes', 'question_id': 1707292},\n",
       " {'answer': u'yes', 'question_id': 580060},\n",
       " {'answer': u'yes', 'question_id': 580061},\n",
       " {'answer': u'yes', 'question_id': 580062},\n",
       " {'answer': u'10', 'question_id': 2451530},\n",
       " {'answer': u'yes', 'question_id': 2451531},\n",
       " {'answer': u'yes', 'question_id': 2451532},\n",
       " {'answer': u'yes', 'question_id': 2375680},\n",
       " {'answer': u'yes', 'question_id': 2375681},\n",
       " {'answer': u'yes', 'question_id': 2375682},\n",
       " {'answer': u'10', 'question_id': 4506552},\n",
       " {'answer': u'10', 'question_id': 4506550},\n",
       " {'answer': u'yes', 'question_id': 4506551},\n",
       " {'answer': u'yes', 'question_id': 3770120},\n",
       " {'answer': u'yes', 'question_id': 3770121},\n",
       " {'answer': u'yes', 'question_id': 3770122},\n",
       " {'answer': u'10', 'question_id': 4324530},\n",
       " {'answer': u'yes', 'question_id': 4324531},\n",
       " {'answer': u'yes', 'question_id': 4324532},\n",
       " {'answer': u'yes', 'question_id': 1050152},\n",
       " {'answer': u'10', 'question_id': 1050150},\n",
       " {'answer': u'yes', 'question_id': 1050151},\n",
       " {'answer': u'10', 'question_id': 3658860},\n",
       " {'answer': u'yes', 'question_id': 3658861},\n",
       " {'answer': u'10', 'question_id': 3658862},\n",
       " {'answer': u'yes', 'question_id': 655672},\n",
       " {'answer': u'yes', 'question_id': 655670},\n",
       " {'answer': u'yes', 'question_id': 655671},\n",
       " {'answer': u'yes', 'question_id': 2934740},\n",
       " {'answer': u'yes', 'question_id': 2934741},\n",
       " {'answer': u'yes', 'question_id': 2934742},\n",
       " {'answer': u'yes', 'question_id': 4679512},\n",
       " {'answer': u'yes', 'question_id': 4679510},\n",
       " {'answer': u'10', 'question_id': 4679511},\n",
       " {'answer': u'10', 'question_id': 821800},\n",
       " {'answer': u'yes', 'question_id': 821801},\n",
       " {'answer': u'10', 'question_id': 821802},\n",
       " {'answer': u'10', 'question_id': 4578820},\n",
       " {'answer': u'yes', 'question_id': 4578821},\n",
       " {'answer': u'yes', 'question_id': 4578822},\n",
       " {'answer': u'yes', 'question_id': 1118192},\n",
       " {'answer': u'yes', 'question_id': 1118190},\n",
       " {'answer': u'yes', 'question_id': 1118191},\n",
       " {'answer': u'yes', 'question_id': 2834380},\n",
       " {'answer': u'yes', 'question_id': 2834381},\n",
       " {'answer': u'yes', 'question_id': 2834382},\n",
       " {'answer': u'yes', 'question_id': 2186370},\n",
       " {'answer': u'10', 'question_id': 2186371},\n",
       " {'answer': u'10', 'question_id': 2186372},\n",
       " {'answer': u'yes', 'question_id': 5506272},\n",
       " {'answer': u'10', 'question_id': 5506270},\n",
       " {'answer': u'yes', 'question_id': 5506271},\n",
       " {'answer': u'yes', 'question_id': 1508880},\n",
       " {'answer': u'10', 'question_id': 1508881},\n",
       " {'answer': u'yes', 'question_id': 1508882},\n",
       " {'answer': u'10', 'question_id': 1435330},\n",
       " {'answer': u'yes', 'question_id': 1435331},\n",
       " {'answer': u'10', 'question_id': 1435332},\n",
       " {'answer': u'yes', 'question_id': 3953820},\n",
       " {'answer': u'yes', 'question_id': 3953821},\n",
       " {'answer': u'yes', 'question_id': 3953822},\n",
       " {'answer': u'10', 'question_id': 4822250},\n",
       " {'answer': u'yes', 'question_id': 4822251},\n",
       " {'answer': u'yes', 'question_id': 4822252},\n",
       " {'answer': u'10', 'question_id': 4711180},\n",
       " {'answer': u'yes', 'question_id': 4711181},\n",
       " {'answer': u'yes', 'question_id': 4711182},\n",
       " {'answer': u'10', 'question_id': 184260},\n",
       " {'answer': u'yes', 'question_id': 184261},\n",
       " {'answer': u'10', 'question_id': 184262},\n",
       " {'answer': u'10', 'question_id': 4507280},\n",
       " {'answer': u'yes', 'question_id': 4507281},\n",
       " {'answer': u'yes', 'question_id': 4507282},\n",
       " {'answer': u'yes', 'question_id': 450160},\n",
       " {'answer': u'yes', 'question_id': 450161},\n",
       " {'answer': u'yes', 'question_id': 450162},\n",
       " {'answer': u'yes', 'question_id': 5226370},\n",
       " {'answer': u'yes', 'question_id': 5226371},\n",
       " {'answer': u'yes', 'question_id': 5226372},\n",
       " {'answer': u'yes', 'question_id': 2512060},\n",
       " {'answer': u'yes', 'question_id': 2512061},\n",
       " {'answer': u'yes', 'question_id': 2512062},\n",
       " {'answer': u'10', 'question_id': 5554560},\n",
       " {'answer': u'yes', 'question_id': 5554561},\n",
       " {'answer': u'10', 'question_id': 5554562},\n",
       " {'answer': u'yes', 'question_id': 5000180},\n",
       " {'answer': u'yes', 'question_id': 5000181},\n",
       " {'answer': u'10', 'question_id': 5000182},\n",
       " {'answer': u'yes', 'question_id': 63970},\n",
       " {'answer': u'yes', 'question_id': 63971},\n",
       " {'answer': u'10', 'question_id': 63972},\n",
       " {'answer': u'10', 'question_id': 2478060},\n",
       " {'answer': u'yes', 'question_id': 2478061},\n",
       " {'answer': u'yes', 'question_id': 2478062},\n",
       " {'answer': u'10', 'question_id': 5575952},\n",
       " {'answer': u'10', 'question_id': 5575950},\n",
       " {'answer': u'10', 'question_id': 5575951},\n",
       " {'answer': u'yes', 'question_id': 2140460},\n",
       " {'answer': u'yes', 'question_id': 2140461},\n",
       " {'answer': u'yes', 'question_id': 2140462},\n",
       " {'answer': u'yes', 'question_id': 5267512},\n",
       " {'answer': u'yes', 'question_id': 5267510},\n",
       " {'answer': u'yes', 'question_id': 5267511},\n",
       " {'answer': u'yes', 'question_id': 2785060},\n",
       " {'answer': u'yes', 'question_id': 2785061},\n",
       " {'answer': u'10', 'question_id': 2785062},\n",
       " {'answer': u'yes', 'question_id': 2822512},\n",
       " {'answer': u'yes', 'question_id': 2822510},\n",
       " {'answer': u'yes', 'question_id': 2822511},\n",
       " {'answer': u'yes', 'question_id': 5799000},\n",
       " {'answer': u'yes', 'question_id': 5799001},\n",
       " {'answer': u'yes', 'question_id': 5799002},\n",
       " {'answer': u'yes', 'question_id': 5547100},\n",
       " {'answer': u'yes', 'question_id': 5547101},\n",
       " {'answer': u'yes', 'question_id': 5547102},\n",
       " {'answer': u'10', 'question_id': 3597810},\n",
       " {'answer': u'10', 'question_id': 3597811},\n",
       " {'answer': u'yes', 'question_id': 3597812},\n",
       " {'answer': u'10', 'question_id': 3430530},\n",
       " {'answer': u'10', 'question_id': 3430531},\n",
       " {'answer': u'10', 'question_id': 3430532},\n",
       " {'answer': u'yes', 'question_id': 4235760},\n",
       " {'answer': u'yes', 'question_id': 4235761},\n",
       " {'answer': u'yes', 'question_id': 4235762},\n",
       " {'answer': u'10', 'question_id': 3544250},\n",
       " {'answer': u'yes', 'question_id': 3544251},\n",
       " {'answer': u'yes', 'question_id': 3544252},\n",
       " {'answer': u'10', 'question_id': 4238100},\n",
       " ...]"
      ]
     },
     "execution_count": 51,
     "metadata": {},
     "output_type": "execute_result"
    }
   ],
   "source": [
    "res = text_vision.predictions_to_dic(predictions, text_vision.test_questions_ids[:n_test])\n",
    "res"
   ]
  },
  {
   "cell_type": "code",
   "execution_count": 53,
   "metadata": {},
   "outputs": [
    {
     "data": {
      "text/plain": [
       "array([u'wood', u'no', u'None', ..., u'no', u'coffee', u'kitchen'],\n",
       "      dtype='<U18')"
      ]
     },
     "execution_count": 53,
     "metadata": {},
     "output_type": "execute_result"
    }
   ],
   "source": [
    "answers_ind_val_true = np.argmax(y_val, axis=1)\n",
    "idx_to_answer = np.vectorize(text_vision.idx_to_answer)\n",
    "idx_to_answer(answers_ind_val_true)"
   ]
  }
 ],
 "metadata": {
  "kernelspec": {
   "display_name": "Python 2",
   "language": "python",
   "name": "python2"
  },
  "language_info": {
   "codemirror_mode": {
    "name": "ipython",
    "version": 2
   },
   "file_extension": ".py",
   "mimetype": "text/x-python",
   "name": "python",
   "nbconvert_exporter": "python",
   "pygments_lexer": "ipython2",
   "version": "2.7.14"
  },
  "toc": {
   "nav_menu": {},
   "number_sections": true,
   "sideBar": true,
   "skip_h1_title": false,
   "toc_cell": true,
   "toc_position": {},
   "toc_section_display": "block",
   "toc_window_display": true
  },
  "varInspector": {
   "cols": {
    "lenName": 16,
    "lenType": 16,
    "lenVar": 40
   },
   "kernels_config": {
    "python": {
     "delete_cmd_postfix": "",
     "delete_cmd_prefix": "del ",
     "library": "var_list.py",
     "varRefreshCmd": "print(var_dic_list())"
    },
    "r": {
     "delete_cmd_postfix": ") ",
     "delete_cmd_prefix": "rm(",
     "library": "var_list.r",
     "varRefreshCmd": "cat(var_dic_list()) "
    }
   },
   "oldHeight": 122.66666599999999,
   "position": {
    "height": "40px",
    "left": "1010px",
    "right": "20px",
    "top": "120px",
    "width": "250px"
   },
   "types_to_exclude": [
    "module",
    "function",
    "builtin_function_or_method",
    "instance",
    "_Feature"
   ],
   "varInspector_section_display": "none",
   "window_display": true
  }
 },
 "nbformat": 4,
 "nbformat_minor": 2
}
