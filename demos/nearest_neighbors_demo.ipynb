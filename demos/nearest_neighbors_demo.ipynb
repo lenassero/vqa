{
 "cells": [
  {
   "cell_type": "code",
   "execution_count": 1,
   "metadata": {},
   "outputs": [],
   "source": [
    "# Add the path of the main directory\n",
    "import sys\n",
    "import os\n",
    "sys.path.append(os.path.dirname(os.getcwd()))"
   ]
  },
  {
   "cell_type": "code",
   "execution_count": 2,
   "metadata": {},
   "outputs": [
    {
     "name": "stderr",
     "output_type": "stream",
     "text": [
      "Using TensorFlow backend.\n"
     ]
    }
   ],
   "source": [
    "from nearest_neighbors import NearestNeighbors\n",
    "from evaluate import Evaluate"
   ]
  },
  {
   "cell_type": "code",
   "execution_count": 3,
   "metadata": {},
   "outputs": [],
   "source": [
    "%load_ext autoreload\n",
    "\n",
    "%autoreload 2"
   ]
  },
  {
   "cell_type": "code",
   "execution_count": 4,
   "metadata": {},
   "outputs": [],
   "source": [
    "# dataDir     = r\"C:\\Users\\Nasser Benab\\Documents\\git\\data\\vqa\"\n",
    "# dataDir = r\"C:\\Users\\Nasser Benab\\Documents\\git\\data\\vqa\"\n",
    "dataDir = \"/home/ubuntu/data/vqa\"\n",
    "versionType = \"\" \n",
    "taskType    = \"OpenEnded\" \n",
    "dataType    = \"mscoco\"\n",
    "dataSubTypesTrain = [\"train2014\"]\n",
    "dataSubTypeTest = \"val2014\""
   ]
  },
  {
   "cell_type": "markdown",
   "metadata": {},
   "source": [
    "# Training "
   ]
  },
  {
   "cell_type": "code",
   "execution_count": 5,
   "metadata": {},
   "outputs": [
    {
     "name": "stdout",
     "output_type": "stream",
     "text": [
      "---> train2014\n",
      "loading VQA annotations and questions into memory...\n",
      "0:00:10.308712\n",
      "creating index...\n",
      "index created!\n",
      "\n",
      "\n",
      "---> val2014\n",
      "loading VQA annotations and questions into memory...\n",
      "0:00:04.082472\n",
      "creating index...\n",
      "index created!\n",
      "\n",
      "\n",
      "---> Loading the skipthoughts model ...\n",
      "\n",
      "\n",
      "---> Loading the VGG16 model ...\n"
     ]
    }
   ],
   "source": [
    "near_neighbors = NearestNeighbors(dataDir, versionType, taskType, dataType,\n",
    "                 dataSubTypesTrain, dataSubTypeTest)"
   ]
  },
  {
   "cell_type": "code",
   "execution_count": 6,
   "metadata": {},
   "outputs": [
    {
     "name": "stdout",
     "output_type": "stream",
     "text": [
      "The train questions have already been embedded, loading them ...\n"
     ]
    }
   ],
   "source": [
    "# Encode questions in the training set (skipthoughts)\n",
    "near_neighbors.encode_questions_train()"
   ]
  },
  {
   "cell_type": "code",
   "execution_count": 7,
   "metadata": {},
   "outputs": [
    {
     "name": "stdout",
     "output_type": "stream",
     "text": [
      "The test questions have already been embedded, loading them ...\n"
     ]
    }
   ],
   "source": [
    "# Encode questions in the test set (skipthoughts)\n",
    "near_neighbors.encode_questions_test()"
   ]
  },
  {
   "cell_type": "code",
   "execution_count": 8,
   "metadata": {},
   "outputs": [
    {
     "name": "stdout",
     "output_type": "stream",
     "text": [
      "The test questions nearest neighbors in the train set have already been computed, loading ...\n"
     ]
    }
   ],
   "source": [
    "near_neighbors.get_test_questions_nn_train_low_memory(chunk_size=5000)"
   ]
  },
  {
   "cell_type": "code",
   "execution_count": 9,
   "metadata": {},
   "outputs": [
    {
     "name": "stderr",
     "output_type": "stream",
     "text": [
      "\r",
      "  0%|          | 0/82783 [00:00<?, ?it/s]"
     ]
    },
    {
     "name": "stdout",
     "output_type": "stream",
     "text": [
      "Encoding train images ...\n"
     ]
    },
    {
     "name": "stderr",
     "output_type": "stream",
     "text": [
      "100%|██████████| 82783/82783 [57:02<00:00, 24.19it/s]\n"
     ]
    },
    {
     "name": "stdout",
     "output_type": "stream",
     "text": [
      "Saving the results ...\n",
      "Saved file: /home/ubuntu/data/vqa/Embeddings/OpenEnded_mscoco_train2014_vgg_embeddings_nn.pkl\n"
     ]
    }
   ],
   "source": [
    "near_neighbors.encode_images_train()"
   ]
  },
  {
   "cell_type": "code",
   "execution_count": 10,
   "metadata": {},
   "outputs": [
    {
     "name": "stderr",
     "output_type": "stream",
     "text": [
      "\r",
      "  0%|          | 0/40504 [00:00<?, ?it/s]"
     ]
    },
    {
     "name": "stdout",
     "output_type": "stream",
     "text": [
      "Encoding test images ...\n"
     ]
    },
    {
     "name": "stderr",
     "output_type": "stream",
     "text": [
      "100%|██████████| 40504/40504 [28:03<00:00, 24.06it/s]\n"
     ]
    },
    {
     "name": "stdout",
     "output_type": "stream",
     "text": [
      "Saving the results ...\n",
      "Saved file: /home/ubuntu/data/vqa/Embeddings/OpenEnded_mscoco_val2014_vgg_embeddings_nn.pkl\n"
     ]
    }
   ],
   "source": [
    "near_neighbors.encode_images_test()"
   ]
  },
  {
   "cell_type": "code",
   "execution_count": 11,
   "metadata": {},
   "outputs": [
    {
     "name": "stdout",
     "output_type": "stream",
     "text": [
      "Getting the nearest image among the 4 train question/image nearest pairs to each test question/image pair ...\n"
     ]
    }
   ],
   "source": [
    "near_neighbors.get_test_images_nn_train()"
   ]
  },
  {
   "cell_type": "code",
   "execution_count": 26,
   "metadata": {},
   "outputs": [],
   "source": [
    "# import matplotlib.pyplot as plt\n",
    "# import numpy as np\n",
    "# from scipy.misc import imread\n",
    "# topImages = near_neighbors.qID_to_img_nn\n",
    "# train_qID_to_imgID={dic[\"question_id\"]: dic[\"image_id\"] for dic in near_neighbors.questions_train}\n",
    "# test_qID_to_imgID = {dic[\"question_id\"]: dic[\"image_id\"] for dic in near_neighbors.questions_test}\n",
    "# qID = np.random.choice(topImages.keys())\n",
    "# imgID = test_qID_to_imgID[qID]\n",
    "# topImgID = topImages[qID]\n",
    "# imgFileName = 'COCO_' + 'val2014' + '_'+ str(imgID).zfill(12) + '.jpg'\n",
    "# topImgFileName = 'COCO_' + 'train2014' + '_'+ str(topImgID).zfill(12) + '.jpg'\n",
    "\n",
    "# # plot image from val\n",
    "# I = imread(os.path.join(dataDir, \"Images/mscoco/val2014\", imgFileName))\n",
    "# plt.imshow(I)\n",
    "# plt.axis('off')\n",
    "# plt.show()\n",
    "\n",
    "# # nearest image from train\n",
    "# I = imread(os.path.join(dataDir, \"Images/mscoco/train2014\", topImgFileName))\n",
    "# plt.imshow(I)\n",
    "# plt.axis('off')\n",
    "# plt.show()"
   ]
  },
  {
   "cell_type": "markdown",
   "metadata": {},
   "source": [
    "# Predictions"
   ]
  },
  {
   "cell_type": "code",
   "execution_count": 28,
   "metadata": {},
   "outputs": [
    {
     "name": "stdout",
     "output_type": "stream",
     "text": [
      "--> Saving the results\n"
     ]
    }
   ],
   "source": [
    "# Predict answers on the validation dataset\n",
    "near_neighbors.predict(dataSubTypeTest)"
   ]
  },
  {
   "cell_type": "markdown",
   "metadata": {},
   "source": [
    "# Evaluation "
   ]
  },
  {
   "cell_type": "code",
   "execution_count": 30,
   "metadata": {},
   "outputs": [
    {
     "name": "stdout",
     "output_type": "stream",
     "text": [
      "Loading and preparing results...     \n",
      "DONE (t=0.60s)\n",
      "creating index...\n",
      "index created!\n",
      "computing accuracy\n",
      "Finshed Percent: [####################] 99% Done computing accuracy\n",
      "\n",
      "\n",
      "Overall Accuracy: 42.52%\n"
     ]
    }
   ],
   "source": [
    "# Compute the accuracies for the validation set\n",
    "eval_ = Evaluate(near_neighbors.vqa_test, near_neighbors.results_file, near_neighbors.quesFile_test, near_neighbors.dataDir, \n",
    "                 near_neighbors.dataType, dataSubTypeTest)\n",
    "eval_.compute_accuracies()"
   ]
  },
  {
   "cell_type": "code",
   "execution_count": 31,
   "metadata": {},
   "outputs": [
    {
     "data": {
      "text/html": [
       "<div>\n",
       "<style scoped>\n",
       "    .dataframe tbody tr th:only-of-type {\n",
       "        vertical-align: middle;\n",
       "    }\n",
       "\n",
       "    .dataframe tbody tr th {\n",
       "        vertical-align: top;\n",
       "    }\n",
       "\n",
       "    .dataframe thead th {\n",
       "        text-align: right;\n",
       "    }\n",
       "</style>\n",
       "<table border=\"1\" class=\"dataframe\">\n",
       "  <thead>\n",
       "    <tr style=\"text-align: right;\">\n",
       "      <th></th>\n",
       "      <th>Answer type</th>\n",
       "      <th>Accuracy</th>\n",
       "    </tr>\n",
       "  </thead>\n",
       "  <tbody>\n",
       "    <tr>\n",
       "      <th>0</th>\n",
       "      <td>yes/no</td>\n",
       "      <td>73.58</td>\n",
       "    </tr>\n",
       "    <tr>\n",
       "      <th>1</th>\n",
       "      <td>number</td>\n",
       "      <td>24.35</td>\n",
       "    </tr>\n",
       "    <tr>\n",
       "      <th>2</th>\n",
       "      <td>other</td>\n",
       "      <td>23.83</td>\n",
       "    </tr>\n",
       "  </tbody>\n",
       "</table>\n",
       "</div>"
      ],
      "text/plain": [
       "  Answer type  Accuracy\n",
       "0      yes/no     73.58\n",
       "1      number     24.35\n",
       "2       other     23.83"
      ]
     },
     "execution_count": 31,
     "metadata": {},
     "output_type": "execute_result"
    }
   ],
   "source": [
    "# Accuracy per answer type (%)\n",
    "eval_.acc_answer_type_df"
   ]
  },
  {
   "cell_type": "code",
   "execution_count": 32,
   "metadata": {},
   "outputs": [
    {
     "data": {
      "text/html": [
       "<div>\n",
       "<style scoped>\n",
       "    .dataframe tbody tr th:only-of-type {\n",
       "        vertical-align: middle;\n",
       "    }\n",
       "\n",
       "    .dataframe tbody tr th {\n",
       "        vertical-align: top;\n",
       "    }\n",
       "\n",
       "    .dataframe thead th {\n",
       "        text-align: right;\n",
       "    }\n",
       "</style>\n",
       "<table border=\"1\" class=\"dataframe\">\n",
       "  <thead>\n",
       "    <tr style=\"text-align: right;\">\n",
       "      <th></th>\n",
       "      <th>Question type</th>\n",
       "      <th>Accuracy</th>\n",
       "    </tr>\n",
       "  </thead>\n",
       "  <tbody>\n",
       "    <tr>\n",
       "      <th>0</th>\n",
       "      <td>is there a</td>\n",
       "      <td>81.67</td>\n",
       "    </tr>\n",
       "    <tr>\n",
       "      <th>1</th>\n",
       "      <td>is there</td>\n",
       "      <td>77.76</td>\n",
       "    </tr>\n",
       "    <tr>\n",
       "      <th>2</th>\n",
       "      <td>do you</td>\n",
       "      <td>77.46</td>\n",
       "    </tr>\n",
       "    <tr>\n",
       "      <th>3</th>\n",
       "      <td>could</td>\n",
       "      <td>76.65</td>\n",
       "    </tr>\n",
       "    <tr>\n",
       "      <th>4</th>\n",
       "      <td>are there</td>\n",
       "      <td>75.15</td>\n",
       "    </tr>\n",
       "  </tbody>\n",
       "</table>\n",
       "</div>"
      ],
      "text/plain": [
       "  Question type  Accuracy\n",
       "0    is there a     81.67\n",
       "1      is there     77.76\n",
       "2        do you     77.46\n",
       "3         could     76.65\n",
       "4     are there     75.15"
      ]
     },
     "execution_count": 32,
     "metadata": {},
     "output_type": "execute_result"
    }
   ],
   "source": [
    "# Accuracy per question type (%)\n",
    "eval_.acc_question_type_df.head()"
   ]
  },
  {
   "cell_type": "code",
   "execution_count": 33,
   "metadata": {},
   "outputs": [
    {
     "name": "stdout",
     "output_type": "stream",
     "text": [
      "Ground truth answers:\n",
      "---------------------\n",
      "Question: Could more than one person sleep on this bed?\n",
      "Answer 1: no\n",
      "Answer 2: yes\n",
      "Answer 3: no\n",
      "Answer 4: yes\n",
      "Answer 5: yes\n",
      "Answer 6: no\n",
      "Answer 7: yes\n",
      "Answer 8: no\n",
      "Answer 9: no\n",
      "Answer 10: yes\n",
      "\n",
      "\n",
      "Generated answer (accuracy 100.0%):\n",
      "---------------------------------\n",
      "Answer: yes\n"
     ]
    },
    {
     "data": {
      "image/png": "[encoded data removed]",
      "text/plain": [
       "<matplotlib.figure.Figure at 0x7f920f1cbc50>"
      ]
     },
     "metadata": {},
     "output_type": "display_data"
    }
   ],
   "source": [
    "# Retrieve particular results\n",
    "eval_.retrieve_result(question_type=\"could\")"
   ]
  }
 ],
 "metadata": {
  "kernelspec": {
   "display_name": "Environment (conda_tensorflow_p27)",
   "language": "python",
   "name": "conda_tensorflow_p27"
  },
  "language_info": {
   "codemirror_mode": {
    "name": "ipython",
    "version": 2
   },
   "file_extension": ".py",
   "mimetype": "text/x-python",
   "name": "python",
   "nbconvert_exporter": "python",
   "pygments_lexer": "ipython2",
   "version": "2.7.14"
  },
  "toc": {
   "nav_menu": {},
   "number_sections": true,
   "sideBar": true,
   "skip_h1_title": false,
   "toc_cell": false,
   "toc_position": {},
   "toc_section_display": "block",
   "toc_window_display": false
  },
  "varInspector": {
   "cols": {
    "lenName": 16,
    "lenType": 16,
    "lenVar": 40
   },
   "kernels_config": {
    "python": {
     "delete_cmd_postfix": "",
     "delete_cmd_prefix": "del ",
     "library": "var_list.py",
     "varRefreshCmd": "print(var_dic_list())"
    },
    "r": {
     "delete_cmd_postfix": ") ",
     "delete_cmd_prefix": "rm(",
     "library": "var_list.r",
     "varRefreshCmd": "cat(var_dic_list()) "
    }
   },
   "types_to_exclude": [
    "module",
    "function",
    "builtin_function_or_method",
    "instance",
    "_Feature"
   ],
   "window_display": false
  }
 },
 "nbformat": 4,
 "nbformat_minor": 2
}
