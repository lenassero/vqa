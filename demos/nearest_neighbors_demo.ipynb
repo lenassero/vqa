{
 "cells": [
  {
   "cell_type": "code",
   "execution_count": 1,
   "metadata": {
    "collapsed": true
   },
   "outputs": [],
   "source": [
    "# Add the path of the main directory\n",
    "import sys\n",
    "import os\n",
    "sys.path.append(os.path.dirname(os.getcwd()))"
   ]
  },
  {
   "cell_type": "code",
   "execution_count": 2,
   "metadata": {},
   "outputs": [
    {
     "name": "stderr",
     "output_type": "stream",
     "text": [
      "Using Theano backend.\n",
      "WARNING (theano.tensor.blas): Using NumPy C-API based implementation for BLAS functions.\n"
     ]
    }
   ],
   "source": [
    "from nearest_neighbors import NearestNeighbors\n",
    "from evaluate import Evaluate"
   ]
  },
  {
   "cell_type": "code",
   "execution_count": 3,
   "metadata": {},
   "outputs": [],
   "source": [
    "%load_ext autoreload\n",
    "\n",
    "%autoreload 2"
   ]
  },
  {
   "cell_type": "code",
   "execution_count": 4,
   "metadata": {
    "collapsed": true
   },
   "outputs": [],
   "source": [
    "dataDir = r\"C:\\Users\\Nasser Benab\\Documents\\git\\data\\vqa\"\n",
    "# dataDir = r\"/Users/adib/Documents/Cours/Projet/OR/VQA/vqa_dataset\""
   ]
  },
  {
   "cell_type": "code",
   "execution_count": 5,
   "metadata": {
    "collapsed": true
   },
   "outputs": [],
   "source": [
    "dataDir     = r\"C:\\Users\\Nasser Benab\\Documents\\git\\data\\vqa\"\n",
    "versionType = \"\" \n",
    "taskType    = \"OpenEnded\" \n",
    "dataType    = \"mscoco\"\n",
    "dataSubTypesTrain = [\"train2014\"]\n",
    "dataSubTypeTest = \"val2014\""
   ]
  },
  {
   "cell_type": "markdown",
   "metadata": {},
   "source": [
    "# Training "
   ]
  },
  {
   "cell_type": "code",
   "execution_count": 6,
   "metadata": {},
   "outputs": [
    {
     "name": "stdout",
     "output_type": "stream",
     "text": [
      "---> train2014\n",
      "loading VQA annotations and questions into memory...\n",
      "0:00:13.885000\n",
      "creating index...\n",
      "index created!\n",
      "\n",
      "\n",
      "---> val2014\n",
      "loading VQA annotations and questions into memory...\n",
      "0:00:07.833000\n",
      "creating index...\n",
      "index created!\n",
      "\n",
      "\n",
      "---> Loading the skipthoughts model ...\n",
      "Loading model parameters...\n",
      "Compiling encoders...\n",
      "Loading tables...\n",
      "Packing up...\n",
      "\n",
      "\n",
      "---> Loading the VGG16 model ...\n"
     ]
    }
   ],
   "source": [
    "near_neighbors = NearestNeighbors(dataDir, versionType, taskType, dataType,\n",
    "                 dataSubTypesTrain, dataSubTypeTest, n_train=300, n_test=300)"
   ]
  },
  {
   "cell_type": "code",
   "execution_count": 7,
   "metadata": {},
   "outputs": [
    {
     "name": "stdout",
     "output_type": "stream",
     "text": [
      "The train questions have already been embedded, loading them ...\n"
     ]
    }
   ],
   "source": [
    "near_neighbors.encode_questions_train()"
   ]
  },
  {
   "cell_type": "code",
   "execution_count": 8,
   "metadata": {},
   "outputs": [
    {
     "name": "stdout",
     "output_type": "stream",
     "text": [
      "The test questions have already been embedded, loading them ...\n"
     ]
    }
   ],
   "source": [
    "near_neighbors.encode_questions_test()"
   ]
  },
  {
   "cell_type": "code",
   "execution_count": 9,
   "metadata": {},
   "outputs": [
    {
     "name": "stdout",
     "output_type": "stream",
     "text": [
      "The test questions nearest neighbors in the train set have already been computed, loading ...\n"
     ]
    }
   ],
   "source": [
    "near_neighbors.get_test_questions_nn_train()"
   ]
  },
  {
   "cell_type": "code",
   "execution_count": 10,
   "metadata": {},
   "outputs": [
    {
     "name": "stdout",
     "output_type": "stream",
     "text": [
      "The train images have already been encoded, loading the embeddings ... \n"
     ]
    }
   ],
   "source": [
    "near_neighbors.encode_images_train()"
   ]
  },
  {
   "cell_type": "code",
   "execution_count": 11,
   "metadata": {},
   "outputs": [
    {
     "name": "stdout",
     "output_type": "stream",
     "text": [
      "The train images have already been encoded, loading the embeddings ... \n"
     ]
    }
   ],
   "source": [
    "near_neighbors.encode_images_test()"
   ]
  },
  {
   "cell_type": "code",
   "execution_count": 14,
   "metadata": {},
   "outputs": [
    {
     "name": "stdout",
     "output_type": "stream",
     "text": [
      "Getting the nearest image among the 4 train question/image nearest pairs to each test question/image pair ...\n"
     ]
    }
   ],
   "source": [
    "near_neighbors.get_test_images_nn_train()"
   ]
  },
  {
   "cell_type": "code",
   "execution_count": null,
   "metadata": {},
   "outputs": [],
   "source": [
    "near_neighbors.predict(dataSubTypeTest)"
   ]
  },
  {
   "cell_type": "code",
   "execution_count": null,
   "metadata": {},
   "outputs": [],
   "source": [
    "# import matplotlib.pyplot as plt\n",
    "# import skimage.io as io\n",
    "# import numpy as np\n",
    "# topImages = near_neighbors.qID_to_img_nn\n",
    "# train_qID_to_imgID={dic[\"question_id\"]: dic[\"image_id\"] for dic in near_neighbors.questions_train}\n",
    "# test_qID_to_imgID = {dic[\"question_id\"]: dic[\"image_id\"] for dic in near_neighbors.questions_test}\n",
    "# qID = np.random.choice(topImages.keys())\n",
    "# imgID = test_qID_to_imgID[qID]\n",
    "# topImgID = topImages[qID]\n",
    "# imgFileName = 'COCO_' + 'val2014' + '_'+ str(imgID).zfill(12) + '.jpg'\n",
    "# topImgFileName = 'COCO_' + 'train2014' + '_'+ str(topImgID).zfill(12) + '.jpg'\n",
    "\n",
    "# # plot image from val\n",
    "# I = io.imread(os.path.join(r\"C:\\Users\\Nasser Benab\\Documents\\git\\data\\vqa\\Images\\mscoco\\val2014\", imgFileName))\n",
    "# plt.imshow(I)\n",
    "# plt.axis('off')\n",
    "# plt.show()\n",
    "\n",
    "# # nearest image from train\n",
    "# I = io.imread(os.path.join(r\"C:\\Users\\Nasser Benab\\Documents\\git\\data\\vqa\\Images\\mscoco\\train2014\", topImgFileName))\n",
    "# plt.imshow(I)\n",
    "# plt.axis('off')\n",
    "# plt.show()"
   ]
  },
  {
   "cell_type": "markdown",
   "metadata": {},
   "source": [
    "# Predictions"
   ]
  },
  {
   "cell_type": "code",
   "execution_count": null,
   "metadata": {
    "collapsed": true
   },
   "outputs": [],
   "source": [
    "# Predict answers on the validation dataset\n",
    "dataSubType = \"val2014\"\n",
    "near_neighbors.predict(dataSubType)"
   ]
  },
  {
   "cell_type": "markdown",
   "metadata": {},
   "source": [
    "# Evaluation "
   ]
  },
  {
   "cell_type": "code",
   "execution_count": null,
   "metadata": {
    "collapsed": true
   },
   "outputs": [],
   "source": [
    "# Compute the accuracies for the validation set\n",
    "eval_ = Evaluate(near_neighbors.vqa_test, near_neighbors.results_file, near_neighbors.quesFile_test, near_neighbors.dataDir, \n",
    "                 near_neighbors.dataType, dataSubType)\n",
    "eval_.compute_accuracies()"
   ]
  },
  {
   "cell_type": "code",
   "execution_count": null,
   "metadata": {
    "collapsed": true
   },
   "outputs": [],
   "source": [
    "# Accuracy per answer type (%)\n",
    "eval_.acc_answer_type_df"
   ]
  },
  {
   "cell_type": "code",
   "execution_count": null,
   "metadata": {
    "collapsed": true
   },
   "outputs": [],
   "source": [
    "# Accuracy per question type (%)\n",
    "eval_.acc_question_type_df.head()"
   ]
  },
  {
   "cell_type": "code",
   "execution_count": null,
   "metadata": {
    "collapsed": true
   },
   "outputs": [],
   "source": [
    "# Retrieve particular results\n",
    "eval_.retrieve_result(question_type=\"could\")"
   ]
  }
 ],
 "metadata": {
  "kernelspec": {
   "display_name": "Python 2",
   "language": "python",
   "name": "python2"
  },
  "language_info": {
   "codemirror_mode": {
    "name": "ipython",
    "version": 2
   },
   "file_extension": ".py",
   "mimetype": "text/x-python",
   "name": "python",
   "nbconvert_exporter": "python",
   "pygments_lexer": "ipython2",
   "version": "2.7.14"
  },
  "toc": {
   "nav_menu": {},
   "number_sections": true,
   "sideBar": true,
   "skip_h1_title": false,
   "toc_cell": false,
   "toc_position": {},
   "toc_section_display": "block",
   "toc_window_display": false
  },
  "varInspector": {
   "cols": {
    "lenName": 16,
    "lenType": 16,
    "lenVar": 40
   },
   "kernels_config": {
    "python": {
     "delete_cmd_postfix": "",
     "delete_cmd_prefix": "del ",
     "library": "var_list.py",
     "varRefreshCmd": "print(var_dic_list())"
    },
    "r": {
     "delete_cmd_postfix": ") ",
     "delete_cmd_prefix": "rm(",
     "library": "var_list.r",
     "varRefreshCmd": "cat(var_dic_list()) "
    }
   },
   "types_to_exclude": [
    "module",
    "function",
    "builtin_function_or_method",
    "instance",
    "_Feature"
   ],
   "window_display": false
  }
 },
 "nbformat": 4,
 "nbformat_minor": 2
}
